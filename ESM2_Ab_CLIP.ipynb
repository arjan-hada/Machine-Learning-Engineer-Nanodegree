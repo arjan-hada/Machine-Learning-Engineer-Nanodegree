{
  "nbformat": 4,
  "nbformat_minor": 0,
  "metadata": {
    "colab": {
      "provenance": [],
      "gpuType": "L4",
      "toc_visible": true,
      "machine_shape": "hm",
      "authorship_tag": "ABX9TyOtbzEPtqhHiFuxE9LAhGKr",
      "include_colab_link": true
    },
    "kernelspec": {
      "name": "python3",
      "display_name": "Python 3"
    },
    "language_info": {
      "name": "python"
    },
    "accelerator": "GPU",
    "widgets": {
      "application/vnd.jupyter.widget-state+json": {
        "a8f3441fab1040d69c7859d8eaa7dd1f": {
          "model_module": "@jupyter-widgets/controls",
          "model_name": "HBoxModel",
          "model_module_version": "1.5.0",
          "state": {
            "_dom_classes": [],
            "_model_module": "@jupyter-widgets/controls",
            "_model_module_version": "1.5.0",
            "_model_name": "HBoxModel",
            "_view_count": null,
            "_view_module": "@jupyter-widgets/controls",
            "_view_module_version": "1.5.0",
            "_view_name": "HBoxView",
            "box_style": "",
            "children": [
              "IPY_MODEL_5f2100a310df4e0bb1b2e2deaa5f28be",
              "IPY_MODEL_ad6f711a216f4fb5b6d9add3957d08b9",
              "IPY_MODEL_a638ab99eacb4bc08561c150fad0e9c2"
            ],
            "layout": "IPY_MODEL_b6f999973e6643c9a16598c9fafd9566"
          }
        },
        "5f2100a310df4e0bb1b2e2deaa5f28be": {
          "model_module": "@jupyter-widgets/controls",
          "model_name": "HTMLModel",
          "model_module_version": "1.5.0",
          "state": {
            "_dom_classes": [],
            "_model_module": "@jupyter-widgets/controls",
            "_model_module_version": "1.5.0",
            "_model_name": "HTMLModel",
            "_view_count": null,
            "_view_module": "@jupyter-widgets/controls",
            "_view_module_version": "1.5.0",
            "_view_name": "HTMLView",
            "description": "",
            "description_tooltip": null,
            "layout": "IPY_MODEL_578c41993a5e4300af785ce5b9ff741a",
            "placeholder": "​",
            "style": "IPY_MODEL_ac4c6728262944cd8ecfd89e20a37b08",
            "value": "tokenizer_config.json: 100%"
          }
        },
        "ad6f711a216f4fb5b6d9add3957d08b9": {
          "model_module": "@jupyter-widgets/controls",
          "model_name": "FloatProgressModel",
          "model_module_version": "1.5.0",
          "state": {
            "_dom_classes": [],
            "_model_module": "@jupyter-widgets/controls",
            "_model_module_version": "1.5.0",
            "_model_name": "FloatProgressModel",
            "_view_count": null,
            "_view_module": "@jupyter-widgets/controls",
            "_view_module_version": "1.5.0",
            "_view_name": "ProgressView",
            "bar_style": "success",
            "description": "",
            "description_tooltip": null,
            "layout": "IPY_MODEL_333f7893bef1489c82010ab4eb01efc7",
            "max": 95,
            "min": 0,
            "orientation": "horizontal",
            "style": "IPY_MODEL_c235e59b0a5d4312acc697ec9c5597c2",
            "value": 95
          }
        },
        "a638ab99eacb4bc08561c150fad0e9c2": {
          "model_module": "@jupyter-widgets/controls",
          "model_name": "HTMLModel",
          "model_module_version": "1.5.0",
          "state": {
            "_dom_classes": [],
            "_model_module": "@jupyter-widgets/controls",
            "_model_module_version": "1.5.0",
            "_model_name": "HTMLModel",
            "_view_count": null,
            "_view_module": "@jupyter-widgets/controls",
            "_view_module_version": "1.5.0",
            "_view_name": "HTMLView",
            "description": "",
            "description_tooltip": null,
            "layout": "IPY_MODEL_b156b3b17db741ec84b19dedaee94d3a",
            "placeholder": "​",
            "style": "IPY_MODEL_6d509207500c4ecdb18ee824c3810e98",
            "value": " 95.0/95.0 [00:00&lt;00:00, 7.01kB/s]"
          }
        },
        "b6f999973e6643c9a16598c9fafd9566": {
          "model_module": "@jupyter-widgets/base",
          "model_name": "LayoutModel",
          "model_module_version": "1.2.0",
          "state": {
            "_model_module": "@jupyter-widgets/base",
            "_model_module_version": "1.2.0",
            "_model_name": "LayoutModel",
            "_view_count": null,
            "_view_module": "@jupyter-widgets/base",
            "_view_module_version": "1.2.0",
            "_view_name": "LayoutView",
            "align_content": null,
            "align_items": null,
            "align_self": null,
            "border": null,
            "bottom": null,
            "display": null,
            "flex": null,
            "flex_flow": null,
            "grid_area": null,
            "grid_auto_columns": null,
            "grid_auto_flow": null,
            "grid_auto_rows": null,
            "grid_column": null,
            "grid_gap": null,
            "grid_row": null,
            "grid_template_areas": null,
            "grid_template_columns": null,
            "grid_template_rows": null,
            "height": null,
            "justify_content": null,
            "justify_items": null,
            "left": null,
            "margin": null,
            "max_height": null,
            "max_width": null,
            "min_height": null,
            "min_width": null,
            "object_fit": null,
            "object_position": null,
            "order": null,
            "overflow": null,
            "overflow_x": null,
            "overflow_y": null,
            "padding": null,
            "right": null,
            "top": null,
            "visibility": null,
            "width": null
          }
        },
        "578c41993a5e4300af785ce5b9ff741a": {
          "model_module": "@jupyter-widgets/base",
          "model_name": "LayoutModel",
          "model_module_version": "1.2.0",
          "state": {
            "_model_module": "@jupyter-widgets/base",
            "_model_module_version": "1.2.0",
            "_model_name": "LayoutModel",
            "_view_count": null,
            "_view_module": "@jupyter-widgets/base",
            "_view_module_version": "1.2.0",
            "_view_name": "LayoutView",
            "align_content": null,
            "align_items": null,
            "align_self": null,
            "border": null,
            "bottom": null,
            "display": null,
            "flex": null,
            "flex_flow": null,
            "grid_area": null,
            "grid_auto_columns": null,
            "grid_auto_flow": null,
            "grid_auto_rows": null,
            "grid_column": null,
            "grid_gap": null,
            "grid_row": null,
            "grid_template_areas": null,
            "grid_template_columns": null,
            "grid_template_rows": null,
            "height": null,
            "justify_content": null,
            "justify_items": null,
            "left": null,
            "margin": null,
            "max_height": null,
            "max_width": null,
            "min_height": null,
            "min_width": null,
            "object_fit": null,
            "object_position": null,
            "order": null,
            "overflow": null,
            "overflow_x": null,
            "overflow_y": null,
            "padding": null,
            "right": null,
            "top": null,
            "visibility": null,
            "width": null
          }
        },
        "ac4c6728262944cd8ecfd89e20a37b08": {
          "model_module": "@jupyter-widgets/controls",
          "model_name": "DescriptionStyleModel",
          "model_module_version": "1.5.0",
          "state": {
            "_model_module": "@jupyter-widgets/controls",
            "_model_module_version": "1.5.0",
            "_model_name": "DescriptionStyleModel",
            "_view_count": null,
            "_view_module": "@jupyter-widgets/base",
            "_view_module_version": "1.2.0",
            "_view_name": "StyleView",
            "description_width": ""
          }
        },
        "333f7893bef1489c82010ab4eb01efc7": {
          "model_module": "@jupyter-widgets/base",
          "model_name": "LayoutModel",
          "model_module_version": "1.2.0",
          "state": {
            "_model_module": "@jupyter-widgets/base",
            "_model_module_version": "1.2.0",
            "_model_name": "LayoutModel",
            "_view_count": null,
            "_view_module": "@jupyter-widgets/base",
            "_view_module_version": "1.2.0",
            "_view_name": "LayoutView",
            "align_content": null,
            "align_items": null,
            "align_self": null,
            "border": null,
            "bottom": null,
            "display": null,
            "flex": null,
            "flex_flow": null,
            "grid_area": null,
            "grid_auto_columns": null,
            "grid_auto_flow": null,
            "grid_auto_rows": null,
            "grid_column": null,
            "grid_gap": null,
            "grid_row": null,
            "grid_template_areas": null,
            "grid_template_columns": null,
            "grid_template_rows": null,
            "height": null,
            "justify_content": null,
            "justify_items": null,
            "left": null,
            "margin": null,
            "max_height": null,
            "max_width": null,
            "min_height": null,
            "min_width": null,
            "object_fit": null,
            "object_position": null,
            "order": null,
            "overflow": null,
            "overflow_x": null,
            "overflow_y": null,
            "padding": null,
            "right": null,
            "top": null,
            "visibility": null,
            "width": null
          }
        },
        "c235e59b0a5d4312acc697ec9c5597c2": {
          "model_module": "@jupyter-widgets/controls",
          "model_name": "ProgressStyleModel",
          "model_module_version": "1.5.0",
          "state": {
            "_model_module": "@jupyter-widgets/controls",
            "_model_module_version": "1.5.0",
            "_model_name": "ProgressStyleModel",
            "_view_count": null,
            "_view_module": "@jupyter-widgets/base",
            "_view_module_version": "1.2.0",
            "_view_name": "StyleView",
            "bar_color": null,
            "description_width": ""
          }
        },
        "b156b3b17db741ec84b19dedaee94d3a": {
          "model_module": "@jupyter-widgets/base",
          "model_name": "LayoutModel",
          "model_module_version": "1.2.0",
          "state": {
            "_model_module": "@jupyter-widgets/base",
            "_model_module_version": "1.2.0",
            "_model_name": "LayoutModel",
            "_view_count": null,
            "_view_module": "@jupyter-widgets/base",
            "_view_module_version": "1.2.0",
            "_view_name": "LayoutView",
            "align_content": null,
            "align_items": null,
            "align_self": null,
            "border": null,
            "bottom": null,
            "display": null,
            "flex": null,
            "flex_flow": null,
            "grid_area": null,
            "grid_auto_columns": null,
            "grid_auto_flow": null,
            "grid_auto_rows": null,
            "grid_column": null,
            "grid_gap": null,
            "grid_row": null,
            "grid_template_areas": null,
            "grid_template_columns": null,
            "grid_template_rows": null,
            "height": null,
            "justify_content": null,
            "justify_items": null,
            "left": null,
            "margin": null,
            "max_height": null,
            "max_width": null,
            "min_height": null,
            "min_width": null,
            "object_fit": null,
            "object_position": null,
            "order": null,
            "overflow": null,
            "overflow_x": null,
            "overflow_y": null,
            "padding": null,
            "right": null,
            "top": null,
            "visibility": null,
            "width": null
          }
        },
        "6d509207500c4ecdb18ee824c3810e98": {
          "model_module": "@jupyter-widgets/controls",
          "model_name": "DescriptionStyleModel",
          "model_module_version": "1.5.0",
          "state": {
            "_model_module": "@jupyter-widgets/controls",
            "_model_module_version": "1.5.0",
            "_model_name": "DescriptionStyleModel",
            "_view_count": null,
            "_view_module": "@jupyter-widgets/base",
            "_view_module_version": "1.2.0",
            "_view_name": "StyleView",
            "description_width": ""
          }
        },
        "d838c76d578b4574b994c3116b2b4153": {
          "model_module": "@jupyter-widgets/controls",
          "model_name": "HBoxModel",
          "model_module_version": "1.5.0",
          "state": {
            "_dom_classes": [],
            "_model_module": "@jupyter-widgets/controls",
            "_model_module_version": "1.5.0",
            "_model_name": "HBoxModel",
            "_view_count": null,
            "_view_module": "@jupyter-widgets/controls",
            "_view_module_version": "1.5.0",
            "_view_name": "HBoxView",
            "box_style": "",
            "children": [
              "IPY_MODEL_47017019771d4b2f857e08d7904d187d",
              "IPY_MODEL_939e337dba9f48e7948b09a9e386d5b0",
              "IPY_MODEL_41c1b0b5b8744476a30a43c6533caeb0"
            ],
            "layout": "IPY_MODEL_89262d09592b41a68febef57dbee616e"
          }
        },
        "47017019771d4b2f857e08d7904d187d": {
          "model_module": "@jupyter-widgets/controls",
          "model_name": "HTMLModel",
          "model_module_version": "1.5.0",
          "state": {
            "_dom_classes": [],
            "_model_module": "@jupyter-widgets/controls",
            "_model_module_version": "1.5.0",
            "_model_name": "HTMLModel",
            "_view_count": null,
            "_view_module": "@jupyter-widgets/controls",
            "_view_module_version": "1.5.0",
            "_view_name": "HTMLView",
            "description": "",
            "description_tooltip": null,
            "layout": "IPY_MODEL_c412feb1b26842d5ab323d77fe29f105",
            "placeholder": "​",
            "style": "IPY_MODEL_97e80fbf86004a4c9e74af2e51f8bc28",
            "value": "vocab.txt: 100%"
          }
        },
        "939e337dba9f48e7948b09a9e386d5b0": {
          "model_module": "@jupyter-widgets/controls",
          "model_name": "FloatProgressModel",
          "model_module_version": "1.5.0",
          "state": {
            "_dom_classes": [],
            "_model_module": "@jupyter-widgets/controls",
            "_model_module_version": "1.5.0",
            "_model_name": "FloatProgressModel",
            "_view_count": null,
            "_view_module": "@jupyter-widgets/controls",
            "_view_module_version": "1.5.0",
            "_view_name": "ProgressView",
            "bar_style": "success",
            "description": "",
            "description_tooltip": null,
            "layout": "IPY_MODEL_3cba078e04974a028fe2bcbb43bb9249",
            "max": 93,
            "min": 0,
            "orientation": "horizontal",
            "style": "IPY_MODEL_5287571c6b6f4d778622f325465ef9b7",
            "value": 93
          }
        },
        "41c1b0b5b8744476a30a43c6533caeb0": {
          "model_module": "@jupyter-widgets/controls",
          "model_name": "HTMLModel",
          "model_module_version": "1.5.0",
          "state": {
            "_dom_classes": [],
            "_model_module": "@jupyter-widgets/controls",
            "_model_module_version": "1.5.0",
            "_model_name": "HTMLModel",
            "_view_count": null,
            "_view_module": "@jupyter-widgets/controls",
            "_view_module_version": "1.5.0",
            "_view_name": "HTMLView",
            "description": "",
            "description_tooltip": null,
            "layout": "IPY_MODEL_f8fceba8dbac43afa780aaf4f957a651",
            "placeholder": "​",
            "style": "IPY_MODEL_f5073af582fe4a6686e23da5a09cb4aa",
            "value": " 93.0/93.0 [00:00&lt;00:00, 7.81kB/s]"
          }
        },
        "89262d09592b41a68febef57dbee616e": {
          "model_module": "@jupyter-widgets/base",
          "model_name": "LayoutModel",
          "model_module_version": "1.2.0",
          "state": {
            "_model_module": "@jupyter-widgets/base",
            "_model_module_version": "1.2.0",
            "_model_name": "LayoutModel",
            "_view_count": null,
            "_view_module": "@jupyter-widgets/base",
            "_view_module_version": "1.2.0",
            "_view_name": "LayoutView",
            "align_content": null,
            "align_items": null,
            "align_self": null,
            "border": null,
            "bottom": null,
            "display": null,
            "flex": null,
            "flex_flow": null,
            "grid_area": null,
            "grid_auto_columns": null,
            "grid_auto_flow": null,
            "grid_auto_rows": null,
            "grid_column": null,
            "grid_gap": null,
            "grid_row": null,
            "grid_template_areas": null,
            "grid_template_columns": null,
            "grid_template_rows": null,
            "height": null,
            "justify_content": null,
            "justify_items": null,
            "left": null,
            "margin": null,
            "max_height": null,
            "max_width": null,
            "min_height": null,
            "min_width": null,
            "object_fit": null,
            "object_position": null,
            "order": null,
            "overflow": null,
            "overflow_x": null,
            "overflow_y": null,
            "padding": null,
            "right": null,
            "top": null,
            "visibility": null,
            "width": null
          }
        },
        "c412feb1b26842d5ab323d77fe29f105": {
          "model_module": "@jupyter-widgets/base",
          "model_name": "LayoutModel",
          "model_module_version": "1.2.0",
          "state": {
            "_model_module": "@jupyter-widgets/base",
            "_model_module_version": "1.2.0",
            "_model_name": "LayoutModel",
            "_view_count": null,
            "_view_module": "@jupyter-widgets/base",
            "_view_module_version": "1.2.0",
            "_view_name": "LayoutView",
            "align_content": null,
            "align_items": null,
            "align_self": null,
            "border": null,
            "bottom": null,
            "display": null,
            "flex": null,
            "flex_flow": null,
            "grid_area": null,
            "grid_auto_columns": null,
            "grid_auto_flow": null,
            "grid_auto_rows": null,
            "grid_column": null,
            "grid_gap": null,
            "grid_row": null,
            "grid_template_areas": null,
            "grid_template_columns": null,
            "grid_template_rows": null,
            "height": null,
            "justify_content": null,
            "justify_items": null,
            "left": null,
            "margin": null,
            "max_height": null,
            "max_width": null,
            "min_height": null,
            "min_width": null,
            "object_fit": null,
            "object_position": null,
            "order": null,
            "overflow": null,
            "overflow_x": null,
            "overflow_y": null,
            "padding": null,
            "right": null,
            "top": null,
            "visibility": null,
            "width": null
          }
        },
        "97e80fbf86004a4c9e74af2e51f8bc28": {
          "model_module": "@jupyter-widgets/controls",
          "model_name": "DescriptionStyleModel",
          "model_module_version": "1.5.0",
          "state": {
            "_model_module": "@jupyter-widgets/controls",
            "_model_module_version": "1.5.0",
            "_model_name": "DescriptionStyleModel",
            "_view_count": null,
            "_view_module": "@jupyter-widgets/base",
            "_view_module_version": "1.2.0",
            "_view_name": "StyleView",
            "description_width": ""
          }
        },
        "3cba078e04974a028fe2bcbb43bb9249": {
          "model_module": "@jupyter-widgets/base",
          "model_name": "LayoutModel",
          "model_module_version": "1.2.0",
          "state": {
            "_model_module": "@jupyter-widgets/base",
            "_model_module_version": "1.2.0",
            "_model_name": "LayoutModel",
            "_view_count": null,
            "_view_module": "@jupyter-widgets/base",
            "_view_module_version": "1.2.0",
            "_view_name": "LayoutView",
            "align_content": null,
            "align_items": null,
            "align_self": null,
            "border": null,
            "bottom": null,
            "display": null,
            "flex": null,
            "flex_flow": null,
            "grid_area": null,
            "grid_auto_columns": null,
            "grid_auto_flow": null,
            "grid_auto_rows": null,
            "grid_column": null,
            "grid_gap": null,
            "grid_row": null,
            "grid_template_areas": null,
            "grid_template_columns": null,
            "grid_template_rows": null,
            "height": null,
            "justify_content": null,
            "justify_items": null,
            "left": null,
            "margin": null,
            "max_height": null,
            "max_width": null,
            "min_height": null,
            "min_width": null,
            "object_fit": null,
            "object_position": null,
            "order": null,
            "overflow": null,
            "overflow_x": null,
            "overflow_y": null,
            "padding": null,
            "right": null,
            "top": null,
            "visibility": null,
            "width": null
          }
        },
        "5287571c6b6f4d778622f325465ef9b7": {
          "model_module": "@jupyter-widgets/controls",
          "model_name": "ProgressStyleModel",
          "model_module_version": "1.5.0",
          "state": {
            "_model_module": "@jupyter-widgets/controls",
            "_model_module_version": "1.5.0",
            "_model_name": "ProgressStyleModel",
            "_view_count": null,
            "_view_module": "@jupyter-widgets/base",
            "_view_module_version": "1.2.0",
            "_view_name": "StyleView",
            "bar_color": null,
            "description_width": ""
          }
        },
        "f8fceba8dbac43afa780aaf4f957a651": {
          "model_module": "@jupyter-widgets/base",
          "model_name": "LayoutModel",
          "model_module_version": "1.2.0",
          "state": {
            "_model_module": "@jupyter-widgets/base",
            "_model_module_version": "1.2.0",
            "_model_name": "LayoutModel",
            "_view_count": null,
            "_view_module": "@jupyter-widgets/base",
            "_view_module_version": "1.2.0",
            "_view_name": "LayoutView",
            "align_content": null,
            "align_items": null,
            "align_self": null,
            "border": null,
            "bottom": null,
            "display": null,
            "flex": null,
            "flex_flow": null,
            "grid_area": null,
            "grid_auto_columns": null,
            "grid_auto_flow": null,
            "grid_auto_rows": null,
            "grid_column": null,
            "grid_gap": null,
            "grid_row": null,
            "grid_template_areas": null,
            "grid_template_columns": null,
            "grid_template_rows": null,
            "height": null,
            "justify_content": null,
            "justify_items": null,
            "left": null,
            "margin": null,
            "max_height": null,
            "max_width": null,
            "min_height": null,
            "min_width": null,
            "object_fit": null,
            "object_position": null,
            "order": null,
            "overflow": null,
            "overflow_x": null,
            "overflow_y": null,
            "padding": null,
            "right": null,
            "top": null,
            "visibility": null,
            "width": null
          }
        },
        "f5073af582fe4a6686e23da5a09cb4aa": {
          "model_module": "@jupyter-widgets/controls",
          "model_name": "DescriptionStyleModel",
          "model_module_version": "1.5.0",
          "state": {
            "_model_module": "@jupyter-widgets/controls",
            "_model_module_version": "1.5.0",
            "_model_name": "DescriptionStyleModel",
            "_view_count": null,
            "_view_module": "@jupyter-widgets/base",
            "_view_module_version": "1.2.0",
            "_view_name": "StyleView",
            "description_width": ""
          }
        },
        "4e27d7f43ff0493e85b770716a2db5dd": {
          "model_module": "@jupyter-widgets/controls",
          "model_name": "HBoxModel",
          "model_module_version": "1.5.0",
          "state": {
            "_dom_classes": [],
            "_model_module": "@jupyter-widgets/controls",
            "_model_module_version": "1.5.0",
            "_model_name": "HBoxModel",
            "_view_count": null,
            "_view_module": "@jupyter-widgets/controls",
            "_view_module_version": "1.5.0",
            "_view_name": "HBoxView",
            "box_style": "",
            "children": [
              "IPY_MODEL_4c8780184bca4f8bbb56cf96be0d8733",
              "IPY_MODEL_ab2dc4505d4f4129a77f7cb60d11d8b5",
              "IPY_MODEL_a839b3b2a002494fa8dd138effcf154e"
            ],
            "layout": "IPY_MODEL_e4904afdfe41472eae518739f59fc344"
          }
        },
        "4c8780184bca4f8bbb56cf96be0d8733": {
          "model_module": "@jupyter-widgets/controls",
          "model_name": "HTMLModel",
          "model_module_version": "1.5.0",
          "state": {
            "_dom_classes": [],
            "_model_module": "@jupyter-widgets/controls",
            "_model_module_version": "1.5.0",
            "_model_name": "HTMLModel",
            "_view_count": null,
            "_view_module": "@jupyter-widgets/controls",
            "_view_module_version": "1.5.0",
            "_view_name": "HTMLView",
            "description": "",
            "description_tooltip": null,
            "layout": "IPY_MODEL_8a488808b6b74ff79908f1baf04eb044",
            "placeholder": "​",
            "style": "IPY_MODEL_91bcdb1e3ebe4e708bec338c06e784a0",
            "value": "special_tokens_map.json: 100%"
          }
        },
        "ab2dc4505d4f4129a77f7cb60d11d8b5": {
          "model_module": "@jupyter-widgets/controls",
          "model_name": "FloatProgressModel",
          "model_module_version": "1.5.0",
          "state": {
            "_dom_classes": [],
            "_model_module": "@jupyter-widgets/controls",
            "_model_module_version": "1.5.0",
            "_model_name": "FloatProgressModel",
            "_view_count": null,
            "_view_module": "@jupyter-widgets/controls",
            "_view_module_version": "1.5.0",
            "_view_name": "ProgressView",
            "bar_style": "success",
            "description": "",
            "description_tooltip": null,
            "layout": "IPY_MODEL_4e6d0ec170694c1092986a4ce57a8497",
            "max": 125,
            "min": 0,
            "orientation": "horizontal",
            "style": "IPY_MODEL_8fa6f7a891bf46338a973eddb499ffdf",
            "value": 125
          }
        },
        "a839b3b2a002494fa8dd138effcf154e": {
          "model_module": "@jupyter-widgets/controls",
          "model_name": "HTMLModel",
          "model_module_version": "1.5.0",
          "state": {
            "_dom_classes": [],
            "_model_module": "@jupyter-widgets/controls",
            "_model_module_version": "1.5.0",
            "_model_name": "HTMLModel",
            "_view_count": null,
            "_view_module": "@jupyter-widgets/controls",
            "_view_module_version": "1.5.0",
            "_view_name": "HTMLView",
            "description": "",
            "description_tooltip": null,
            "layout": "IPY_MODEL_7a58ec02d84b4a389a92096b34d13ca9",
            "placeholder": "​",
            "style": "IPY_MODEL_189f5ad1f499405eb06e3cdfdf866e77",
            "value": " 125/125 [00:00&lt;00:00, 10.8kB/s]"
          }
        },
        "e4904afdfe41472eae518739f59fc344": {
          "model_module": "@jupyter-widgets/base",
          "model_name": "LayoutModel",
          "model_module_version": "1.2.0",
          "state": {
            "_model_module": "@jupyter-widgets/base",
            "_model_module_version": "1.2.0",
            "_model_name": "LayoutModel",
            "_view_count": null,
            "_view_module": "@jupyter-widgets/base",
            "_view_module_version": "1.2.0",
            "_view_name": "LayoutView",
            "align_content": null,
            "align_items": null,
            "align_self": null,
            "border": null,
            "bottom": null,
            "display": null,
            "flex": null,
            "flex_flow": null,
            "grid_area": null,
            "grid_auto_columns": null,
            "grid_auto_flow": null,
            "grid_auto_rows": null,
            "grid_column": null,
            "grid_gap": null,
            "grid_row": null,
            "grid_template_areas": null,
            "grid_template_columns": null,
            "grid_template_rows": null,
            "height": null,
            "justify_content": null,
            "justify_items": null,
            "left": null,
            "margin": null,
            "max_height": null,
            "max_width": null,
            "min_height": null,
            "min_width": null,
            "object_fit": null,
            "object_position": null,
            "order": null,
            "overflow": null,
            "overflow_x": null,
            "overflow_y": null,
            "padding": null,
            "right": null,
            "top": null,
            "visibility": null,
            "width": null
          }
        },
        "8a488808b6b74ff79908f1baf04eb044": {
          "model_module": "@jupyter-widgets/base",
          "model_name": "LayoutModel",
          "model_module_version": "1.2.0",
          "state": {
            "_model_module": "@jupyter-widgets/base",
            "_model_module_version": "1.2.0",
            "_model_name": "LayoutModel",
            "_view_count": null,
            "_view_module": "@jupyter-widgets/base",
            "_view_module_version": "1.2.0",
            "_view_name": "LayoutView",
            "align_content": null,
            "align_items": null,
            "align_self": null,
            "border": null,
            "bottom": null,
            "display": null,
            "flex": null,
            "flex_flow": null,
            "grid_area": null,
            "grid_auto_columns": null,
            "grid_auto_flow": null,
            "grid_auto_rows": null,
            "grid_column": null,
            "grid_gap": null,
            "grid_row": null,
            "grid_template_areas": null,
            "grid_template_columns": null,
            "grid_template_rows": null,
            "height": null,
            "justify_content": null,
            "justify_items": null,
            "left": null,
            "margin": null,
            "max_height": null,
            "max_width": null,
            "min_height": null,
            "min_width": null,
            "object_fit": null,
            "object_position": null,
            "order": null,
            "overflow": null,
            "overflow_x": null,
            "overflow_y": null,
            "padding": null,
            "right": null,
            "top": null,
            "visibility": null,
            "width": null
          }
        },
        "91bcdb1e3ebe4e708bec338c06e784a0": {
          "model_module": "@jupyter-widgets/controls",
          "model_name": "DescriptionStyleModel",
          "model_module_version": "1.5.0",
          "state": {
            "_model_module": "@jupyter-widgets/controls",
            "_model_module_version": "1.5.0",
            "_model_name": "DescriptionStyleModel",
            "_view_count": null,
            "_view_module": "@jupyter-widgets/base",
            "_view_module_version": "1.2.0",
            "_view_name": "StyleView",
            "description_width": ""
          }
        },
        "4e6d0ec170694c1092986a4ce57a8497": {
          "model_module": "@jupyter-widgets/base",
          "model_name": "LayoutModel",
          "model_module_version": "1.2.0",
          "state": {
            "_model_module": "@jupyter-widgets/base",
            "_model_module_version": "1.2.0",
            "_model_name": "LayoutModel",
            "_view_count": null,
            "_view_module": "@jupyter-widgets/base",
            "_view_module_version": "1.2.0",
            "_view_name": "LayoutView",
            "align_content": null,
            "align_items": null,
            "align_self": null,
            "border": null,
            "bottom": null,
            "display": null,
            "flex": null,
            "flex_flow": null,
            "grid_area": null,
            "grid_auto_columns": null,
            "grid_auto_flow": null,
            "grid_auto_rows": null,
            "grid_column": null,
            "grid_gap": null,
            "grid_row": null,
            "grid_template_areas": null,
            "grid_template_columns": null,
            "grid_template_rows": null,
            "height": null,
            "justify_content": null,
            "justify_items": null,
            "left": null,
            "margin": null,
            "max_height": null,
            "max_width": null,
            "min_height": null,
            "min_width": null,
            "object_fit": null,
            "object_position": null,
            "order": null,
            "overflow": null,
            "overflow_x": null,
            "overflow_y": null,
            "padding": null,
            "right": null,
            "top": null,
            "visibility": null,
            "width": null
          }
        },
        "8fa6f7a891bf46338a973eddb499ffdf": {
          "model_module": "@jupyter-widgets/controls",
          "model_name": "ProgressStyleModel",
          "model_module_version": "1.5.0",
          "state": {
            "_model_module": "@jupyter-widgets/controls",
            "_model_module_version": "1.5.0",
            "_model_name": "ProgressStyleModel",
            "_view_count": null,
            "_view_module": "@jupyter-widgets/base",
            "_view_module_version": "1.2.0",
            "_view_name": "StyleView",
            "bar_color": null,
            "description_width": ""
          }
        },
        "7a58ec02d84b4a389a92096b34d13ca9": {
          "model_module": "@jupyter-widgets/base",
          "model_name": "LayoutModel",
          "model_module_version": "1.2.0",
          "state": {
            "_model_module": "@jupyter-widgets/base",
            "_model_module_version": "1.2.0",
            "_model_name": "LayoutModel",
            "_view_count": null,
            "_view_module": "@jupyter-widgets/base",
            "_view_module_version": "1.2.0",
            "_view_name": "LayoutView",
            "align_content": null,
            "align_items": null,
            "align_self": null,
            "border": null,
            "bottom": null,
            "display": null,
            "flex": null,
            "flex_flow": null,
            "grid_area": null,
            "grid_auto_columns": null,
            "grid_auto_flow": null,
            "grid_auto_rows": null,
            "grid_column": null,
            "grid_gap": null,
            "grid_row": null,
            "grid_template_areas": null,
            "grid_template_columns": null,
            "grid_template_rows": null,
            "height": null,
            "justify_content": null,
            "justify_items": null,
            "left": null,
            "margin": null,
            "max_height": null,
            "max_width": null,
            "min_height": null,
            "min_width": null,
            "object_fit": null,
            "object_position": null,
            "order": null,
            "overflow": null,
            "overflow_x": null,
            "overflow_y": null,
            "padding": null,
            "right": null,
            "top": null,
            "visibility": null,
            "width": null
          }
        },
        "189f5ad1f499405eb06e3cdfdf866e77": {
          "model_module": "@jupyter-widgets/controls",
          "model_name": "DescriptionStyleModel",
          "model_module_version": "1.5.0",
          "state": {
            "_model_module": "@jupyter-widgets/controls",
            "_model_module_version": "1.5.0",
            "_model_name": "DescriptionStyleModel",
            "_view_count": null,
            "_view_module": "@jupyter-widgets/base",
            "_view_module_version": "1.2.0",
            "_view_name": "StyleView",
            "description_width": ""
          }
        },
        "19f970262138436bb587064d4bc7119a": {
          "model_module": "@jupyter-widgets/controls",
          "model_name": "HBoxModel",
          "model_module_version": "1.5.0",
          "state": {
            "_dom_classes": [],
            "_model_module": "@jupyter-widgets/controls",
            "_model_module_version": "1.5.0",
            "_model_name": "HBoxModel",
            "_view_count": null,
            "_view_module": "@jupyter-widgets/controls",
            "_view_module_version": "1.5.0",
            "_view_name": "HBoxView",
            "box_style": "",
            "children": [
              "IPY_MODEL_f3343a45da1c4808a7ac18fb66188d73",
              "IPY_MODEL_a1e2724bc15e43f5a86ded4b16866252",
              "IPY_MODEL_15c05f0454724b2fa43eb78d1be4019c"
            ],
            "layout": "IPY_MODEL_ca11a6bcb38f4de2baef5581ff39eb27"
          }
        },
        "f3343a45da1c4808a7ac18fb66188d73": {
          "model_module": "@jupyter-widgets/controls",
          "model_name": "HTMLModel",
          "model_module_version": "1.5.0",
          "state": {
            "_dom_classes": [],
            "_model_module": "@jupyter-widgets/controls",
            "_model_module_version": "1.5.0",
            "_model_name": "HTMLModel",
            "_view_count": null,
            "_view_module": "@jupyter-widgets/controls",
            "_view_module_version": "1.5.0",
            "_view_name": "HTMLView",
            "description": "",
            "description_tooltip": null,
            "layout": "IPY_MODEL_8d5573f5fa65481698858f9d7d741d2a",
            "placeholder": "​",
            "style": "IPY_MODEL_19c2ff876e4b4898b7420a9d0936a518",
            "value": "config.json: 100%"
          }
        },
        "a1e2724bc15e43f5a86ded4b16866252": {
          "model_module": "@jupyter-widgets/controls",
          "model_name": "FloatProgressModel",
          "model_module_version": "1.5.0",
          "state": {
            "_dom_classes": [],
            "_model_module": "@jupyter-widgets/controls",
            "_model_module_version": "1.5.0",
            "_model_name": "FloatProgressModel",
            "_view_count": null,
            "_view_module": "@jupyter-widgets/controls",
            "_view_module_version": "1.5.0",
            "_view_name": "ProgressView",
            "bar_style": "success",
            "description": "",
            "description_tooltip": null,
            "layout": "IPY_MODEL_24b4c566c18a4e0a9a91d2efcd7a0689",
            "max": 775,
            "min": 0,
            "orientation": "horizontal",
            "style": "IPY_MODEL_58dbd1ecb5b449fa9e695aab9f82dd22",
            "value": 775
          }
        },
        "15c05f0454724b2fa43eb78d1be4019c": {
          "model_module": "@jupyter-widgets/controls",
          "model_name": "HTMLModel",
          "model_module_version": "1.5.0",
          "state": {
            "_dom_classes": [],
            "_model_module": "@jupyter-widgets/controls",
            "_model_module_version": "1.5.0",
            "_model_name": "HTMLModel",
            "_view_count": null,
            "_view_module": "@jupyter-widgets/controls",
            "_view_module_version": "1.5.0",
            "_view_name": "HTMLView",
            "description": "",
            "description_tooltip": null,
            "layout": "IPY_MODEL_ac412ea27cf3476eb66db070b6febc28",
            "placeholder": "​",
            "style": "IPY_MODEL_84598fe59e2745fc96007a0fbe1704a4",
            "value": " 775/775 [00:00&lt;00:00, 63.6kB/s]"
          }
        },
        "ca11a6bcb38f4de2baef5581ff39eb27": {
          "model_module": "@jupyter-widgets/base",
          "model_name": "LayoutModel",
          "model_module_version": "1.2.0",
          "state": {
            "_model_module": "@jupyter-widgets/base",
            "_model_module_version": "1.2.0",
            "_model_name": "LayoutModel",
            "_view_count": null,
            "_view_module": "@jupyter-widgets/base",
            "_view_module_version": "1.2.0",
            "_view_name": "LayoutView",
            "align_content": null,
            "align_items": null,
            "align_self": null,
            "border": null,
            "bottom": null,
            "display": null,
            "flex": null,
            "flex_flow": null,
            "grid_area": null,
            "grid_auto_columns": null,
            "grid_auto_flow": null,
            "grid_auto_rows": null,
            "grid_column": null,
            "grid_gap": null,
            "grid_row": null,
            "grid_template_areas": null,
            "grid_template_columns": null,
            "grid_template_rows": null,
            "height": null,
            "justify_content": null,
            "justify_items": null,
            "left": null,
            "margin": null,
            "max_height": null,
            "max_width": null,
            "min_height": null,
            "min_width": null,
            "object_fit": null,
            "object_position": null,
            "order": null,
            "overflow": null,
            "overflow_x": null,
            "overflow_y": null,
            "padding": null,
            "right": null,
            "top": null,
            "visibility": null,
            "width": null
          }
        },
        "8d5573f5fa65481698858f9d7d741d2a": {
          "model_module": "@jupyter-widgets/base",
          "model_name": "LayoutModel",
          "model_module_version": "1.2.0",
          "state": {
            "_model_module": "@jupyter-widgets/base",
            "_model_module_version": "1.2.0",
            "_model_name": "LayoutModel",
            "_view_count": null,
            "_view_module": "@jupyter-widgets/base",
            "_view_module_version": "1.2.0",
            "_view_name": "LayoutView",
            "align_content": null,
            "align_items": null,
            "align_self": null,
            "border": null,
            "bottom": null,
            "display": null,
            "flex": null,
            "flex_flow": null,
            "grid_area": null,
            "grid_auto_columns": null,
            "grid_auto_flow": null,
            "grid_auto_rows": null,
            "grid_column": null,
            "grid_gap": null,
            "grid_row": null,
            "grid_template_areas": null,
            "grid_template_columns": null,
            "grid_template_rows": null,
            "height": null,
            "justify_content": null,
            "justify_items": null,
            "left": null,
            "margin": null,
            "max_height": null,
            "max_width": null,
            "min_height": null,
            "min_width": null,
            "object_fit": null,
            "object_position": null,
            "order": null,
            "overflow": null,
            "overflow_x": null,
            "overflow_y": null,
            "padding": null,
            "right": null,
            "top": null,
            "visibility": null,
            "width": null
          }
        },
        "19c2ff876e4b4898b7420a9d0936a518": {
          "model_module": "@jupyter-widgets/controls",
          "model_name": "DescriptionStyleModel",
          "model_module_version": "1.5.0",
          "state": {
            "_model_module": "@jupyter-widgets/controls",
            "_model_module_version": "1.5.0",
            "_model_name": "DescriptionStyleModel",
            "_view_count": null,
            "_view_module": "@jupyter-widgets/base",
            "_view_module_version": "1.2.0",
            "_view_name": "StyleView",
            "description_width": ""
          }
        },
        "24b4c566c18a4e0a9a91d2efcd7a0689": {
          "model_module": "@jupyter-widgets/base",
          "model_name": "LayoutModel",
          "model_module_version": "1.2.0",
          "state": {
            "_model_module": "@jupyter-widgets/base",
            "_model_module_version": "1.2.0",
            "_model_name": "LayoutModel",
            "_view_count": null,
            "_view_module": "@jupyter-widgets/base",
            "_view_module_version": "1.2.0",
            "_view_name": "LayoutView",
            "align_content": null,
            "align_items": null,
            "align_self": null,
            "border": null,
            "bottom": null,
            "display": null,
            "flex": null,
            "flex_flow": null,
            "grid_area": null,
            "grid_auto_columns": null,
            "grid_auto_flow": null,
            "grid_auto_rows": null,
            "grid_column": null,
            "grid_gap": null,
            "grid_row": null,
            "grid_template_areas": null,
            "grid_template_columns": null,
            "grid_template_rows": null,
            "height": null,
            "justify_content": null,
            "justify_items": null,
            "left": null,
            "margin": null,
            "max_height": null,
            "max_width": null,
            "min_height": null,
            "min_width": null,
            "object_fit": null,
            "object_position": null,
            "order": null,
            "overflow": null,
            "overflow_x": null,
            "overflow_y": null,
            "padding": null,
            "right": null,
            "top": null,
            "visibility": null,
            "width": null
          }
        },
        "58dbd1ecb5b449fa9e695aab9f82dd22": {
          "model_module": "@jupyter-widgets/controls",
          "model_name": "ProgressStyleModel",
          "model_module_version": "1.5.0",
          "state": {
            "_model_module": "@jupyter-widgets/controls",
            "_model_module_version": "1.5.0",
            "_model_name": "ProgressStyleModel",
            "_view_count": null,
            "_view_module": "@jupyter-widgets/base",
            "_view_module_version": "1.2.0",
            "_view_name": "StyleView",
            "bar_color": null,
            "description_width": ""
          }
        },
        "ac412ea27cf3476eb66db070b6febc28": {
          "model_module": "@jupyter-widgets/base",
          "model_name": "LayoutModel",
          "model_module_version": "1.2.0",
          "state": {
            "_model_module": "@jupyter-widgets/base",
            "_model_module_version": "1.2.0",
            "_model_name": "LayoutModel",
            "_view_count": null,
            "_view_module": "@jupyter-widgets/base",
            "_view_module_version": "1.2.0",
            "_view_name": "LayoutView",
            "align_content": null,
            "align_items": null,
            "align_self": null,
            "border": null,
            "bottom": null,
            "display": null,
            "flex": null,
            "flex_flow": null,
            "grid_area": null,
            "grid_auto_columns": null,
            "grid_auto_flow": null,
            "grid_auto_rows": null,
            "grid_column": null,
            "grid_gap": null,
            "grid_row": null,
            "grid_template_areas": null,
            "grid_template_columns": null,
            "grid_template_rows": null,
            "height": null,
            "justify_content": null,
            "justify_items": null,
            "left": null,
            "margin": null,
            "max_height": null,
            "max_width": null,
            "min_height": null,
            "min_width": null,
            "object_fit": null,
            "object_position": null,
            "order": null,
            "overflow": null,
            "overflow_x": null,
            "overflow_y": null,
            "padding": null,
            "right": null,
            "top": null,
            "visibility": null,
            "width": null
          }
        },
        "84598fe59e2745fc96007a0fbe1704a4": {
          "model_module": "@jupyter-widgets/controls",
          "model_name": "DescriptionStyleModel",
          "model_module_version": "1.5.0",
          "state": {
            "_model_module": "@jupyter-widgets/controls",
            "_model_module_version": "1.5.0",
            "_model_name": "DescriptionStyleModel",
            "_view_count": null,
            "_view_module": "@jupyter-widgets/base",
            "_view_module_version": "1.2.0",
            "_view_name": "StyleView",
            "description_width": ""
          }
        },
        "64d0f73b036742b79a173c1016c6df68": {
          "model_module": "@jupyter-widgets/controls",
          "model_name": "HBoxModel",
          "model_module_version": "1.5.0",
          "state": {
            "_dom_classes": [],
            "_model_module": "@jupyter-widgets/controls",
            "_model_module_version": "1.5.0",
            "_model_name": "HBoxModel",
            "_view_count": null,
            "_view_module": "@jupyter-widgets/controls",
            "_view_module_version": "1.5.0",
            "_view_name": "HBoxView",
            "box_style": "",
            "children": [
              "IPY_MODEL_978bfc5677c3492da802efafbbb0dc1e",
              "IPY_MODEL_5c0d8ba6f0c8498486ccc5dd4e5eef5c",
              "IPY_MODEL_d35552acfab44cd28bc9404550972ce2"
            ],
            "layout": "IPY_MODEL_e666793ab3054bd4810e9467435d1560"
          }
        },
        "978bfc5677c3492da802efafbbb0dc1e": {
          "model_module": "@jupyter-widgets/controls",
          "model_name": "HTMLModel",
          "model_module_version": "1.5.0",
          "state": {
            "_dom_classes": [],
            "_model_module": "@jupyter-widgets/controls",
            "_model_module_version": "1.5.0",
            "_model_name": "HTMLModel",
            "_view_count": null,
            "_view_module": "@jupyter-widgets/controls",
            "_view_module_version": "1.5.0",
            "_view_name": "HTMLView",
            "description": "",
            "description_tooltip": null,
            "layout": "IPY_MODEL_e2302fd4a0c54bb8ac2cf588f623aa14",
            "placeholder": "​",
            "style": "IPY_MODEL_866806dee5e04904a17157f4ee3a9ecc",
            "value": "model.safetensors: 100%"
          }
        },
        "5c0d8ba6f0c8498486ccc5dd4e5eef5c": {
          "model_module": "@jupyter-widgets/controls",
          "model_name": "FloatProgressModel",
          "model_module_version": "1.5.0",
          "state": {
            "_dom_classes": [],
            "_model_module": "@jupyter-widgets/controls",
            "_model_module_version": "1.5.0",
            "_model_name": "FloatProgressModel",
            "_view_count": null,
            "_view_module": "@jupyter-widgets/controls",
            "_view_module_version": "1.5.0",
            "_view_name": "ProgressView",
            "bar_style": "success",
            "description": "",
            "description_tooltip": null,
            "layout": "IPY_MODEL_d9357c486cfe46468026fca3961de058",
            "max": 31384292,
            "min": 0,
            "orientation": "horizontal",
            "style": "IPY_MODEL_cc970084b96441e58c616d4f2e868fa1",
            "value": 31384292
          }
        },
        "d35552acfab44cd28bc9404550972ce2": {
          "model_module": "@jupyter-widgets/controls",
          "model_name": "HTMLModel",
          "model_module_version": "1.5.0",
          "state": {
            "_dom_classes": [],
            "_model_module": "@jupyter-widgets/controls",
            "_model_module_version": "1.5.0",
            "_model_name": "HTMLModel",
            "_view_count": null,
            "_view_module": "@jupyter-widgets/controls",
            "_view_module_version": "1.5.0",
            "_view_name": "HTMLView",
            "description": "",
            "description_tooltip": null,
            "layout": "IPY_MODEL_d88ba77e51e944f088474daca2abf0ad",
            "placeholder": "​",
            "style": "IPY_MODEL_2fccac9f54274a4f9d500be17f7ca337",
            "value": " 31.4M/31.4M [00:00&lt;00:00, 51.3MB/s]"
          }
        },
        "e666793ab3054bd4810e9467435d1560": {
          "model_module": "@jupyter-widgets/base",
          "model_name": "LayoutModel",
          "model_module_version": "1.2.0",
          "state": {
            "_model_module": "@jupyter-widgets/base",
            "_model_module_version": "1.2.0",
            "_model_name": "LayoutModel",
            "_view_count": null,
            "_view_module": "@jupyter-widgets/base",
            "_view_module_version": "1.2.0",
            "_view_name": "LayoutView",
            "align_content": null,
            "align_items": null,
            "align_self": null,
            "border": null,
            "bottom": null,
            "display": null,
            "flex": null,
            "flex_flow": null,
            "grid_area": null,
            "grid_auto_columns": null,
            "grid_auto_flow": null,
            "grid_auto_rows": null,
            "grid_column": null,
            "grid_gap": null,
            "grid_row": null,
            "grid_template_areas": null,
            "grid_template_columns": null,
            "grid_template_rows": null,
            "height": null,
            "justify_content": null,
            "justify_items": null,
            "left": null,
            "margin": null,
            "max_height": null,
            "max_width": null,
            "min_height": null,
            "min_width": null,
            "object_fit": null,
            "object_position": null,
            "order": null,
            "overflow": null,
            "overflow_x": null,
            "overflow_y": null,
            "padding": null,
            "right": null,
            "top": null,
            "visibility": null,
            "width": null
          }
        },
        "e2302fd4a0c54bb8ac2cf588f623aa14": {
          "model_module": "@jupyter-widgets/base",
          "model_name": "LayoutModel",
          "model_module_version": "1.2.0",
          "state": {
            "_model_module": "@jupyter-widgets/base",
            "_model_module_version": "1.2.0",
            "_model_name": "LayoutModel",
            "_view_count": null,
            "_view_module": "@jupyter-widgets/base",
            "_view_module_version": "1.2.0",
            "_view_name": "LayoutView",
            "align_content": null,
            "align_items": null,
            "align_self": null,
            "border": null,
            "bottom": null,
            "display": null,
            "flex": null,
            "flex_flow": null,
            "grid_area": null,
            "grid_auto_columns": null,
            "grid_auto_flow": null,
            "grid_auto_rows": null,
            "grid_column": null,
            "grid_gap": null,
            "grid_row": null,
            "grid_template_areas": null,
            "grid_template_columns": null,
            "grid_template_rows": null,
            "height": null,
            "justify_content": null,
            "justify_items": null,
            "left": null,
            "margin": null,
            "max_height": null,
            "max_width": null,
            "min_height": null,
            "min_width": null,
            "object_fit": null,
            "object_position": null,
            "order": null,
            "overflow": null,
            "overflow_x": null,
            "overflow_y": null,
            "padding": null,
            "right": null,
            "top": null,
            "visibility": null,
            "width": null
          }
        },
        "866806dee5e04904a17157f4ee3a9ecc": {
          "model_module": "@jupyter-widgets/controls",
          "model_name": "DescriptionStyleModel",
          "model_module_version": "1.5.0",
          "state": {
            "_model_module": "@jupyter-widgets/controls",
            "_model_module_version": "1.5.0",
            "_model_name": "DescriptionStyleModel",
            "_view_count": null,
            "_view_module": "@jupyter-widgets/base",
            "_view_module_version": "1.2.0",
            "_view_name": "StyleView",
            "description_width": ""
          }
        },
        "d9357c486cfe46468026fca3961de058": {
          "model_module": "@jupyter-widgets/base",
          "model_name": "LayoutModel",
          "model_module_version": "1.2.0",
          "state": {
            "_model_module": "@jupyter-widgets/base",
            "_model_module_version": "1.2.0",
            "_model_name": "LayoutModel",
            "_view_count": null,
            "_view_module": "@jupyter-widgets/base",
            "_view_module_version": "1.2.0",
            "_view_name": "LayoutView",
            "align_content": null,
            "align_items": null,
            "align_self": null,
            "border": null,
            "bottom": null,
            "display": null,
            "flex": null,
            "flex_flow": null,
            "grid_area": null,
            "grid_auto_columns": null,
            "grid_auto_flow": null,
            "grid_auto_rows": null,
            "grid_column": null,
            "grid_gap": null,
            "grid_row": null,
            "grid_template_areas": null,
            "grid_template_columns": null,
            "grid_template_rows": null,
            "height": null,
            "justify_content": null,
            "justify_items": null,
            "left": null,
            "margin": null,
            "max_height": null,
            "max_width": null,
            "min_height": null,
            "min_width": null,
            "object_fit": null,
            "object_position": null,
            "order": null,
            "overflow": null,
            "overflow_x": null,
            "overflow_y": null,
            "padding": null,
            "right": null,
            "top": null,
            "visibility": null,
            "width": null
          }
        },
        "cc970084b96441e58c616d4f2e868fa1": {
          "model_module": "@jupyter-widgets/controls",
          "model_name": "ProgressStyleModel",
          "model_module_version": "1.5.0",
          "state": {
            "_model_module": "@jupyter-widgets/controls",
            "_model_module_version": "1.5.0",
            "_model_name": "ProgressStyleModel",
            "_view_count": null,
            "_view_module": "@jupyter-widgets/base",
            "_view_module_version": "1.2.0",
            "_view_name": "StyleView",
            "bar_color": null,
            "description_width": ""
          }
        },
        "d88ba77e51e944f088474daca2abf0ad": {
          "model_module": "@jupyter-widgets/base",
          "model_name": "LayoutModel",
          "model_module_version": "1.2.0",
          "state": {
            "_model_module": "@jupyter-widgets/base",
            "_model_module_version": "1.2.0",
            "_model_name": "LayoutModel",
            "_view_count": null,
            "_view_module": "@jupyter-widgets/base",
            "_view_module_version": "1.2.0",
            "_view_name": "LayoutView",
            "align_content": null,
            "align_items": null,
            "align_self": null,
            "border": null,
            "bottom": null,
            "display": null,
            "flex": null,
            "flex_flow": null,
            "grid_area": null,
            "grid_auto_columns": null,
            "grid_auto_flow": null,
            "grid_auto_rows": null,
            "grid_column": null,
            "grid_gap": null,
            "grid_row": null,
            "grid_template_areas": null,
            "grid_template_columns": null,
            "grid_template_rows": null,
            "height": null,
            "justify_content": null,
            "justify_items": null,
            "left": null,
            "margin": null,
            "max_height": null,
            "max_width": null,
            "min_height": null,
            "min_width": null,
            "object_fit": null,
            "object_position": null,
            "order": null,
            "overflow": null,
            "overflow_x": null,
            "overflow_y": null,
            "padding": null,
            "right": null,
            "top": null,
            "visibility": null,
            "width": null
          }
        },
        "2fccac9f54274a4f9d500be17f7ca337": {
          "model_module": "@jupyter-widgets/controls",
          "model_name": "DescriptionStyleModel",
          "model_module_version": "1.5.0",
          "state": {
            "_model_module": "@jupyter-widgets/controls",
            "_model_module_version": "1.5.0",
            "_model_name": "DescriptionStyleModel",
            "_view_count": null,
            "_view_module": "@jupyter-widgets/base",
            "_view_module_version": "1.2.0",
            "_view_name": "StyleView",
            "description_width": ""
          }
        },
        "03980e21fe6e49abb36e52378118ff3d": {
          "model_module": "@jupyter-widgets/controls",
          "model_name": "VBoxModel",
          "model_module_version": "1.5.0",
          "state": {
            "_dom_classes": [],
            "_model_module": "@jupyter-widgets/controls",
            "_model_module_version": "1.5.0",
            "_model_name": "VBoxModel",
            "_view_count": null,
            "_view_module": "@jupyter-widgets/controls",
            "_view_module_version": "1.5.0",
            "_view_name": "VBoxView",
            "box_style": "",
            "children": [
              "IPY_MODEL_e49511bfc8844f7ba7a61d0ac60b0d91",
              "IPY_MODEL_40304a9f05fa4f328cc381b73813bee1",
              "IPY_MODEL_4bb421df6f1d47fea55a6c0d9d2a1fc0",
              "IPY_MODEL_4ba6d955ffbb4d0aa5cf55473d9fd18d"
            ],
            "layout": "IPY_MODEL_8b82929db2d948b1b72907f126d29b77"
          }
        },
        "755af7bde09d425ba30c2eb4a026ac2f": {
          "model_module": "@jupyter-widgets/controls",
          "model_name": "HTMLModel",
          "model_module_version": "1.5.0",
          "state": {
            "_dom_classes": [],
            "_model_module": "@jupyter-widgets/controls",
            "_model_module_version": "1.5.0",
            "_model_name": "HTMLModel",
            "_view_count": null,
            "_view_module": "@jupyter-widgets/controls",
            "_view_module_version": "1.5.0",
            "_view_name": "HTMLView",
            "description": "",
            "description_tooltip": null,
            "layout": "IPY_MODEL_ad810df10c6a4e08942899dd11ecf78c",
            "placeholder": "​",
            "style": "IPY_MODEL_ff6e2f1a2c8c4887925be35120038fbd",
            "value": "<center> <img\nsrc=https://huggingface.co/front/assets/huggingface_logo-noborder.svg\nalt='Hugging Face'> <br> Copy a token from <a\nhref=\"https://huggingface.co/settings/tokens\" target=\"_blank\">your Hugging Face\ntokens page</a> and paste it below. <br> Immediately click login after copying\nyour token or it might be stored in plain text in this notebook file. </center>"
          }
        },
        "1501849afe074b52a25e5cd88ec7c41c": {
          "model_module": "@jupyter-widgets/controls",
          "model_name": "PasswordModel",
          "model_module_version": "1.5.0",
          "state": {
            "_dom_classes": [],
            "_model_module": "@jupyter-widgets/controls",
            "_model_module_version": "1.5.0",
            "_model_name": "PasswordModel",
            "_view_count": null,
            "_view_module": "@jupyter-widgets/controls",
            "_view_module_version": "1.5.0",
            "_view_name": "PasswordView",
            "continuous_update": true,
            "description": "Token:",
            "description_tooltip": null,
            "disabled": false,
            "layout": "IPY_MODEL_34c0ed16b70144ec901d22f310a0984f",
            "placeholder": "​",
            "style": "IPY_MODEL_113379a7563c4ac8bab5b5235ed2ff5f",
            "value": ""
          }
        },
        "50eb58802fc0476690236fff27352c47": {
          "model_module": "@jupyter-widgets/controls",
          "model_name": "CheckboxModel",
          "model_module_version": "1.5.0",
          "state": {
            "_dom_classes": [],
            "_model_module": "@jupyter-widgets/controls",
            "_model_module_version": "1.5.0",
            "_model_name": "CheckboxModel",
            "_view_count": null,
            "_view_module": "@jupyter-widgets/controls",
            "_view_module_version": "1.5.0",
            "_view_name": "CheckboxView",
            "description": "Add token as git credential?",
            "description_tooltip": null,
            "disabled": false,
            "indent": true,
            "layout": "IPY_MODEL_79c971936b7749acbbca93211cdfe94a",
            "style": "IPY_MODEL_27e4f6fa8bd046f2a41c2943084e487f",
            "value": true
          }
        },
        "4276a95cecc54166a9115fd10e58707f": {
          "model_module": "@jupyter-widgets/controls",
          "model_name": "ButtonModel",
          "model_module_version": "1.5.0",
          "state": {
            "_dom_classes": [],
            "_model_module": "@jupyter-widgets/controls",
            "_model_module_version": "1.5.0",
            "_model_name": "ButtonModel",
            "_view_count": null,
            "_view_module": "@jupyter-widgets/controls",
            "_view_module_version": "1.5.0",
            "_view_name": "ButtonView",
            "button_style": "",
            "description": "Login",
            "disabled": false,
            "icon": "",
            "layout": "IPY_MODEL_98aafd60145c4924be35f8c3f5daac8c",
            "style": "IPY_MODEL_6745223592624326a055d140083014ab",
            "tooltip": ""
          }
        },
        "3ed9051827c44f18ba16b5dec4f0506e": {
          "model_module": "@jupyter-widgets/controls",
          "model_name": "HTMLModel",
          "model_module_version": "1.5.0",
          "state": {
            "_dom_classes": [],
            "_model_module": "@jupyter-widgets/controls",
            "_model_module_version": "1.5.0",
            "_model_name": "HTMLModel",
            "_view_count": null,
            "_view_module": "@jupyter-widgets/controls",
            "_view_module_version": "1.5.0",
            "_view_name": "HTMLView",
            "description": "",
            "description_tooltip": null,
            "layout": "IPY_MODEL_40cbedf518124a58a51703cfe4c0fa51",
            "placeholder": "​",
            "style": "IPY_MODEL_58310925b6194820a620bc73c23061b0",
            "value": "\n<b>Pro Tip:</b> If you don't already have one, you can create a dedicated\n'notebooks' token with 'write' access, that you can then easily reuse for all\nnotebooks. </center>"
          }
        },
        "8b82929db2d948b1b72907f126d29b77": {
          "model_module": "@jupyter-widgets/base",
          "model_name": "LayoutModel",
          "model_module_version": "1.2.0",
          "state": {
            "_model_module": "@jupyter-widgets/base",
            "_model_module_version": "1.2.0",
            "_model_name": "LayoutModel",
            "_view_count": null,
            "_view_module": "@jupyter-widgets/base",
            "_view_module_version": "1.2.0",
            "_view_name": "LayoutView",
            "align_content": null,
            "align_items": "center",
            "align_self": null,
            "border": null,
            "bottom": null,
            "display": "flex",
            "flex": null,
            "flex_flow": "column",
            "grid_area": null,
            "grid_auto_columns": null,
            "grid_auto_flow": null,
            "grid_auto_rows": null,
            "grid_column": null,
            "grid_gap": null,
            "grid_row": null,
            "grid_template_areas": null,
            "grid_template_columns": null,
            "grid_template_rows": null,
            "height": null,
            "justify_content": null,
            "justify_items": null,
            "left": null,
            "margin": null,
            "max_height": null,
            "max_width": null,
            "min_height": null,
            "min_width": null,
            "object_fit": null,
            "object_position": null,
            "order": null,
            "overflow": null,
            "overflow_x": null,
            "overflow_y": null,
            "padding": null,
            "right": null,
            "top": null,
            "visibility": null,
            "width": "50%"
          }
        },
        "ad810df10c6a4e08942899dd11ecf78c": {
          "model_module": "@jupyter-widgets/base",
          "model_name": "LayoutModel",
          "model_module_version": "1.2.0",
          "state": {
            "_model_module": "@jupyter-widgets/base",
            "_model_module_version": "1.2.0",
            "_model_name": "LayoutModel",
            "_view_count": null,
            "_view_module": "@jupyter-widgets/base",
            "_view_module_version": "1.2.0",
            "_view_name": "LayoutView",
            "align_content": null,
            "align_items": null,
            "align_self": null,
            "border": null,
            "bottom": null,
            "display": null,
            "flex": null,
            "flex_flow": null,
            "grid_area": null,
            "grid_auto_columns": null,
            "grid_auto_flow": null,
            "grid_auto_rows": null,
            "grid_column": null,
            "grid_gap": null,
            "grid_row": null,
            "grid_template_areas": null,
            "grid_template_columns": null,
            "grid_template_rows": null,
            "height": null,
            "justify_content": null,
            "justify_items": null,
            "left": null,
            "margin": null,
            "max_height": null,
            "max_width": null,
            "min_height": null,
            "min_width": null,
            "object_fit": null,
            "object_position": null,
            "order": null,
            "overflow": null,
            "overflow_x": null,
            "overflow_y": null,
            "padding": null,
            "right": null,
            "top": null,
            "visibility": null,
            "width": null
          }
        },
        "ff6e2f1a2c8c4887925be35120038fbd": {
          "model_module": "@jupyter-widgets/controls",
          "model_name": "DescriptionStyleModel",
          "model_module_version": "1.5.0",
          "state": {
            "_model_module": "@jupyter-widgets/controls",
            "_model_module_version": "1.5.0",
            "_model_name": "DescriptionStyleModel",
            "_view_count": null,
            "_view_module": "@jupyter-widgets/base",
            "_view_module_version": "1.2.0",
            "_view_name": "StyleView",
            "description_width": ""
          }
        },
        "34c0ed16b70144ec901d22f310a0984f": {
          "model_module": "@jupyter-widgets/base",
          "model_name": "LayoutModel",
          "model_module_version": "1.2.0",
          "state": {
            "_model_module": "@jupyter-widgets/base",
            "_model_module_version": "1.2.0",
            "_model_name": "LayoutModel",
            "_view_count": null,
            "_view_module": "@jupyter-widgets/base",
            "_view_module_version": "1.2.0",
            "_view_name": "LayoutView",
            "align_content": null,
            "align_items": null,
            "align_self": null,
            "border": null,
            "bottom": null,
            "display": null,
            "flex": null,
            "flex_flow": null,
            "grid_area": null,
            "grid_auto_columns": null,
            "grid_auto_flow": null,
            "grid_auto_rows": null,
            "grid_column": null,
            "grid_gap": null,
            "grid_row": null,
            "grid_template_areas": null,
            "grid_template_columns": null,
            "grid_template_rows": null,
            "height": null,
            "justify_content": null,
            "justify_items": null,
            "left": null,
            "margin": null,
            "max_height": null,
            "max_width": null,
            "min_height": null,
            "min_width": null,
            "object_fit": null,
            "object_position": null,
            "order": null,
            "overflow": null,
            "overflow_x": null,
            "overflow_y": null,
            "padding": null,
            "right": null,
            "top": null,
            "visibility": null,
            "width": null
          }
        },
        "113379a7563c4ac8bab5b5235ed2ff5f": {
          "model_module": "@jupyter-widgets/controls",
          "model_name": "DescriptionStyleModel",
          "model_module_version": "1.5.0",
          "state": {
            "_model_module": "@jupyter-widgets/controls",
            "_model_module_version": "1.5.0",
            "_model_name": "DescriptionStyleModel",
            "_view_count": null,
            "_view_module": "@jupyter-widgets/base",
            "_view_module_version": "1.2.0",
            "_view_name": "StyleView",
            "description_width": ""
          }
        },
        "79c971936b7749acbbca93211cdfe94a": {
          "model_module": "@jupyter-widgets/base",
          "model_name": "LayoutModel",
          "model_module_version": "1.2.0",
          "state": {
            "_model_module": "@jupyter-widgets/base",
            "_model_module_version": "1.2.0",
            "_model_name": "LayoutModel",
            "_view_count": null,
            "_view_module": "@jupyter-widgets/base",
            "_view_module_version": "1.2.0",
            "_view_name": "LayoutView",
            "align_content": null,
            "align_items": null,
            "align_self": null,
            "border": null,
            "bottom": null,
            "display": null,
            "flex": null,
            "flex_flow": null,
            "grid_area": null,
            "grid_auto_columns": null,
            "grid_auto_flow": null,
            "grid_auto_rows": null,
            "grid_column": null,
            "grid_gap": null,
            "grid_row": null,
            "grid_template_areas": null,
            "grid_template_columns": null,
            "grid_template_rows": null,
            "height": null,
            "justify_content": null,
            "justify_items": null,
            "left": null,
            "margin": null,
            "max_height": null,
            "max_width": null,
            "min_height": null,
            "min_width": null,
            "object_fit": null,
            "object_position": null,
            "order": null,
            "overflow": null,
            "overflow_x": null,
            "overflow_y": null,
            "padding": null,
            "right": null,
            "top": null,
            "visibility": null,
            "width": null
          }
        },
        "27e4f6fa8bd046f2a41c2943084e487f": {
          "model_module": "@jupyter-widgets/controls",
          "model_name": "DescriptionStyleModel",
          "model_module_version": "1.5.0",
          "state": {
            "_model_module": "@jupyter-widgets/controls",
            "_model_module_version": "1.5.0",
            "_model_name": "DescriptionStyleModel",
            "_view_count": null,
            "_view_module": "@jupyter-widgets/base",
            "_view_module_version": "1.2.0",
            "_view_name": "StyleView",
            "description_width": ""
          }
        },
        "98aafd60145c4924be35f8c3f5daac8c": {
          "model_module": "@jupyter-widgets/base",
          "model_name": "LayoutModel",
          "model_module_version": "1.2.0",
          "state": {
            "_model_module": "@jupyter-widgets/base",
            "_model_module_version": "1.2.0",
            "_model_name": "LayoutModel",
            "_view_count": null,
            "_view_module": "@jupyter-widgets/base",
            "_view_module_version": "1.2.0",
            "_view_name": "LayoutView",
            "align_content": null,
            "align_items": null,
            "align_self": null,
            "border": null,
            "bottom": null,
            "display": null,
            "flex": null,
            "flex_flow": null,
            "grid_area": null,
            "grid_auto_columns": null,
            "grid_auto_flow": null,
            "grid_auto_rows": null,
            "grid_column": null,
            "grid_gap": null,
            "grid_row": null,
            "grid_template_areas": null,
            "grid_template_columns": null,
            "grid_template_rows": null,
            "height": null,
            "justify_content": null,
            "justify_items": null,
            "left": null,
            "margin": null,
            "max_height": null,
            "max_width": null,
            "min_height": null,
            "min_width": null,
            "object_fit": null,
            "object_position": null,
            "order": null,
            "overflow": null,
            "overflow_x": null,
            "overflow_y": null,
            "padding": null,
            "right": null,
            "top": null,
            "visibility": null,
            "width": null
          }
        },
        "6745223592624326a055d140083014ab": {
          "model_module": "@jupyter-widgets/controls",
          "model_name": "ButtonStyleModel",
          "model_module_version": "1.5.0",
          "state": {
            "_model_module": "@jupyter-widgets/controls",
            "_model_module_version": "1.5.0",
            "_model_name": "ButtonStyleModel",
            "_view_count": null,
            "_view_module": "@jupyter-widgets/base",
            "_view_module_version": "1.2.0",
            "_view_name": "StyleView",
            "button_color": null,
            "font_weight": ""
          }
        },
        "40cbedf518124a58a51703cfe4c0fa51": {
          "model_module": "@jupyter-widgets/base",
          "model_name": "LayoutModel",
          "model_module_version": "1.2.0",
          "state": {
            "_model_module": "@jupyter-widgets/base",
            "_model_module_version": "1.2.0",
            "_model_name": "LayoutModel",
            "_view_count": null,
            "_view_module": "@jupyter-widgets/base",
            "_view_module_version": "1.2.0",
            "_view_name": "LayoutView",
            "align_content": null,
            "align_items": null,
            "align_self": null,
            "border": null,
            "bottom": null,
            "display": null,
            "flex": null,
            "flex_flow": null,
            "grid_area": null,
            "grid_auto_columns": null,
            "grid_auto_flow": null,
            "grid_auto_rows": null,
            "grid_column": null,
            "grid_gap": null,
            "grid_row": null,
            "grid_template_areas": null,
            "grid_template_columns": null,
            "grid_template_rows": null,
            "height": null,
            "justify_content": null,
            "justify_items": null,
            "left": null,
            "margin": null,
            "max_height": null,
            "max_width": null,
            "min_height": null,
            "min_width": null,
            "object_fit": null,
            "object_position": null,
            "order": null,
            "overflow": null,
            "overflow_x": null,
            "overflow_y": null,
            "padding": null,
            "right": null,
            "top": null,
            "visibility": null,
            "width": null
          }
        },
        "58310925b6194820a620bc73c23061b0": {
          "model_module": "@jupyter-widgets/controls",
          "model_name": "DescriptionStyleModel",
          "model_module_version": "1.5.0",
          "state": {
            "_model_module": "@jupyter-widgets/controls",
            "_model_module_version": "1.5.0",
            "_model_name": "DescriptionStyleModel",
            "_view_count": null,
            "_view_module": "@jupyter-widgets/base",
            "_view_module_version": "1.2.0",
            "_view_name": "StyleView",
            "description_width": ""
          }
        },
        "44f10c4b61d2441f84e97b4976b1a892": {
          "model_module": "@jupyter-widgets/controls",
          "model_name": "LabelModel",
          "model_module_version": "1.5.0",
          "state": {
            "_dom_classes": [],
            "_model_module": "@jupyter-widgets/controls",
            "_model_module_version": "1.5.0",
            "_model_name": "LabelModel",
            "_view_count": null,
            "_view_module": "@jupyter-widgets/controls",
            "_view_module_version": "1.5.0",
            "_view_name": "LabelView",
            "description": "",
            "description_tooltip": null,
            "layout": "IPY_MODEL_dd3d0a4191534798a3061b5248049a30",
            "placeholder": "​",
            "style": "IPY_MODEL_800b18e956c94330bc98a15801c69b72",
            "value": "Connecting..."
          }
        },
        "dd3d0a4191534798a3061b5248049a30": {
          "model_module": "@jupyter-widgets/base",
          "model_name": "LayoutModel",
          "model_module_version": "1.2.0",
          "state": {
            "_model_module": "@jupyter-widgets/base",
            "_model_module_version": "1.2.0",
            "_model_name": "LayoutModel",
            "_view_count": null,
            "_view_module": "@jupyter-widgets/base",
            "_view_module_version": "1.2.0",
            "_view_name": "LayoutView",
            "align_content": null,
            "align_items": null,
            "align_self": null,
            "border": null,
            "bottom": null,
            "display": null,
            "flex": null,
            "flex_flow": null,
            "grid_area": null,
            "grid_auto_columns": null,
            "grid_auto_flow": null,
            "grid_auto_rows": null,
            "grid_column": null,
            "grid_gap": null,
            "grid_row": null,
            "grid_template_areas": null,
            "grid_template_columns": null,
            "grid_template_rows": null,
            "height": null,
            "justify_content": null,
            "justify_items": null,
            "left": null,
            "margin": null,
            "max_height": null,
            "max_width": null,
            "min_height": null,
            "min_width": null,
            "object_fit": null,
            "object_position": null,
            "order": null,
            "overflow": null,
            "overflow_x": null,
            "overflow_y": null,
            "padding": null,
            "right": null,
            "top": null,
            "visibility": null,
            "width": null
          }
        },
        "800b18e956c94330bc98a15801c69b72": {
          "model_module": "@jupyter-widgets/controls",
          "model_name": "DescriptionStyleModel",
          "model_module_version": "1.5.0",
          "state": {
            "_model_module": "@jupyter-widgets/controls",
            "_model_module_version": "1.5.0",
            "_model_name": "DescriptionStyleModel",
            "_view_count": null,
            "_view_module": "@jupyter-widgets/base",
            "_view_module_version": "1.2.0",
            "_view_name": "StyleView",
            "description_width": ""
          }
        },
        "e49511bfc8844f7ba7a61d0ac60b0d91": {
          "model_module": "@jupyter-widgets/controls",
          "model_name": "LabelModel",
          "model_module_version": "1.5.0",
          "state": {
            "_dom_classes": [],
            "_model_module": "@jupyter-widgets/controls",
            "_model_module_version": "1.5.0",
            "_model_name": "LabelModel",
            "_view_count": null,
            "_view_module": "@jupyter-widgets/controls",
            "_view_module_version": "1.5.0",
            "_view_name": "LabelView",
            "description": "",
            "description_tooltip": null,
            "layout": "IPY_MODEL_c70a0498e4b3421aaea6d003b560d5ac",
            "placeholder": "​",
            "style": "IPY_MODEL_765c10fde58a45c58cd6526703e04c41",
            "value": "Token is valid (permission: write)."
          }
        },
        "40304a9f05fa4f328cc381b73813bee1": {
          "model_module": "@jupyter-widgets/controls",
          "model_name": "LabelModel",
          "model_module_version": "1.5.0",
          "state": {
            "_dom_classes": [],
            "_model_module": "@jupyter-widgets/controls",
            "_model_module_version": "1.5.0",
            "_model_name": "LabelModel",
            "_view_count": null,
            "_view_module": "@jupyter-widgets/controls",
            "_view_module_version": "1.5.0",
            "_view_name": "LabelView",
            "description": "",
            "description_tooltip": null,
            "layout": "IPY_MODEL_34a26800e3964cc1bd366232a1385f6b",
            "placeholder": "​",
            "style": "IPY_MODEL_3068e8958db54a90bb99bee92427ce61",
            "value": "Your token has been saved in your configured git credential helpers (store)."
          }
        },
        "4bb421df6f1d47fea55a6c0d9d2a1fc0": {
          "model_module": "@jupyter-widgets/controls",
          "model_name": "LabelModel",
          "model_module_version": "1.5.0",
          "state": {
            "_dom_classes": [],
            "_model_module": "@jupyter-widgets/controls",
            "_model_module_version": "1.5.0",
            "_model_name": "LabelModel",
            "_view_count": null,
            "_view_module": "@jupyter-widgets/controls",
            "_view_module_version": "1.5.0",
            "_view_name": "LabelView",
            "description": "",
            "description_tooltip": null,
            "layout": "IPY_MODEL_237933f37ba34df4b783d545437b6969",
            "placeholder": "​",
            "style": "IPY_MODEL_6d6da47f374a4d4d83284fc98b57af46",
            "value": "Your token has been saved to /root/.cache/huggingface/token"
          }
        },
        "4ba6d955ffbb4d0aa5cf55473d9fd18d": {
          "model_module": "@jupyter-widgets/controls",
          "model_name": "LabelModel",
          "model_module_version": "1.5.0",
          "state": {
            "_dom_classes": [],
            "_model_module": "@jupyter-widgets/controls",
            "_model_module_version": "1.5.0",
            "_model_name": "LabelModel",
            "_view_count": null,
            "_view_module": "@jupyter-widgets/controls",
            "_view_module_version": "1.5.0",
            "_view_name": "LabelView",
            "description": "",
            "description_tooltip": null,
            "layout": "IPY_MODEL_f1cf683ab24c4156814326b976d2f166",
            "placeholder": "​",
            "style": "IPY_MODEL_634bfcc63e874240a9b3181e384d44b0",
            "value": "Login successful"
          }
        },
        "c70a0498e4b3421aaea6d003b560d5ac": {
          "model_module": "@jupyter-widgets/base",
          "model_name": "LayoutModel",
          "model_module_version": "1.2.0",
          "state": {
            "_model_module": "@jupyter-widgets/base",
            "_model_module_version": "1.2.0",
            "_model_name": "LayoutModel",
            "_view_count": null,
            "_view_module": "@jupyter-widgets/base",
            "_view_module_version": "1.2.0",
            "_view_name": "LayoutView",
            "align_content": null,
            "align_items": null,
            "align_self": null,
            "border": null,
            "bottom": null,
            "display": null,
            "flex": null,
            "flex_flow": null,
            "grid_area": null,
            "grid_auto_columns": null,
            "grid_auto_flow": null,
            "grid_auto_rows": null,
            "grid_column": null,
            "grid_gap": null,
            "grid_row": null,
            "grid_template_areas": null,
            "grid_template_columns": null,
            "grid_template_rows": null,
            "height": null,
            "justify_content": null,
            "justify_items": null,
            "left": null,
            "margin": null,
            "max_height": null,
            "max_width": null,
            "min_height": null,
            "min_width": null,
            "object_fit": null,
            "object_position": null,
            "order": null,
            "overflow": null,
            "overflow_x": null,
            "overflow_y": null,
            "padding": null,
            "right": null,
            "top": null,
            "visibility": null,
            "width": null
          }
        },
        "765c10fde58a45c58cd6526703e04c41": {
          "model_module": "@jupyter-widgets/controls",
          "model_name": "DescriptionStyleModel",
          "model_module_version": "1.5.0",
          "state": {
            "_model_module": "@jupyter-widgets/controls",
            "_model_module_version": "1.5.0",
            "_model_name": "DescriptionStyleModel",
            "_view_count": null,
            "_view_module": "@jupyter-widgets/base",
            "_view_module_version": "1.2.0",
            "_view_name": "StyleView",
            "description_width": ""
          }
        },
        "34a26800e3964cc1bd366232a1385f6b": {
          "model_module": "@jupyter-widgets/base",
          "model_name": "LayoutModel",
          "model_module_version": "1.2.0",
          "state": {
            "_model_module": "@jupyter-widgets/base",
            "_model_module_version": "1.2.0",
            "_model_name": "LayoutModel",
            "_view_count": null,
            "_view_module": "@jupyter-widgets/base",
            "_view_module_version": "1.2.0",
            "_view_name": "LayoutView",
            "align_content": null,
            "align_items": null,
            "align_self": null,
            "border": null,
            "bottom": null,
            "display": null,
            "flex": null,
            "flex_flow": null,
            "grid_area": null,
            "grid_auto_columns": null,
            "grid_auto_flow": null,
            "grid_auto_rows": null,
            "grid_column": null,
            "grid_gap": null,
            "grid_row": null,
            "grid_template_areas": null,
            "grid_template_columns": null,
            "grid_template_rows": null,
            "height": null,
            "justify_content": null,
            "justify_items": null,
            "left": null,
            "margin": null,
            "max_height": null,
            "max_width": null,
            "min_height": null,
            "min_width": null,
            "object_fit": null,
            "object_position": null,
            "order": null,
            "overflow": null,
            "overflow_x": null,
            "overflow_y": null,
            "padding": null,
            "right": null,
            "top": null,
            "visibility": null,
            "width": null
          }
        },
        "3068e8958db54a90bb99bee92427ce61": {
          "model_module": "@jupyter-widgets/controls",
          "model_name": "DescriptionStyleModel",
          "model_module_version": "1.5.0",
          "state": {
            "_model_module": "@jupyter-widgets/controls",
            "_model_module_version": "1.5.0",
            "_model_name": "DescriptionStyleModel",
            "_view_count": null,
            "_view_module": "@jupyter-widgets/base",
            "_view_module_version": "1.2.0",
            "_view_name": "StyleView",
            "description_width": ""
          }
        },
        "237933f37ba34df4b783d545437b6969": {
          "model_module": "@jupyter-widgets/base",
          "model_name": "LayoutModel",
          "model_module_version": "1.2.0",
          "state": {
            "_model_module": "@jupyter-widgets/base",
            "_model_module_version": "1.2.0",
            "_model_name": "LayoutModel",
            "_view_count": null,
            "_view_module": "@jupyter-widgets/base",
            "_view_module_version": "1.2.0",
            "_view_name": "LayoutView",
            "align_content": null,
            "align_items": null,
            "align_self": null,
            "border": null,
            "bottom": null,
            "display": null,
            "flex": null,
            "flex_flow": null,
            "grid_area": null,
            "grid_auto_columns": null,
            "grid_auto_flow": null,
            "grid_auto_rows": null,
            "grid_column": null,
            "grid_gap": null,
            "grid_row": null,
            "grid_template_areas": null,
            "grid_template_columns": null,
            "grid_template_rows": null,
            "height": null,
            "justify_content": null,
            "justify_items": null,
            "left": null,
            "margin": null,
            "max_height": null,
            "max_width": null,
            "min_height": null,
            "min_width": null,
            "object_fit": null,
            "object_position": null,
            "order": null,
            "overflow": null,
            "overflow_x": null,
            "overflow_y": null,
            "padding": null,
            "right": null,
            "top": null,
            "visibility": null,
            "width": null
          }
        },
        "6d6da47f374a4d4d83284fc98b57af46": {
          "model_module": "@jupyter-widgets/controls",
          "model_name": "DescriptionStyleModel",
          "model_module_version": "1.5.0",
          "state": {
            "_model_module": "@jupyter-widgets/controls",
            "_model_module_version": "1.5.0",
            "_model_name": "DescriptionStyleModel",
            "_view_count": null,
            "_view_module": "@jupyter-widgets/base",
            "_view_module_version": "1.2.0",
            "_view_name": "StyleView",
            "description_width": ""
          }
        },
        "f1cf683ab24c4156814326b976d2f166": {
          "model_module": "@jupyter-widgets/base",
          "model_name": "LayoutModel",
          "model_module_version": "1.2.0",
          "state": {
            "_model_module": "@jupyter-widgets/base",
            "_model_module_version": "1.2.0",
            "_model_name": "LayoutModel",
            "_view_count": null,
            "_view_module": "@jupyter-widgets/base",
            "_view_module_version": "1.2.0",
            "_view_name": "LayoutView",
            "align_content": null,
            "align_items": null,
            "align_self": null,
            "border": null,
            "bottom": null,
            "display": null,
            "flex": null,
            "flex_flow": null,
            "grid_area": null,
            "grid_auto_columns": null,
            "grid_auto_flow": null,
            "grid_auto_rows": null,
            "grid_column": null,
            "grid_gap": null,
            "grid_row": null,
            "grid_template_areas": null,
            "grid_template_columns": null,
            "grid_template_rows": null,
            "height": null,
            "justify_content": null,
            "justify_items": null,
            "left": null,
            "margin": null,
            "max_height": null,
            "max_width": null,
            "min_height": null,
            "min_width": null,
            "object_fit": null,
            "object_position": null,
            "order": null,
            "overflow": null,
            "overflow_x": null,
            "overflow_y": null,
            "padding": null,
            "right": null,
            "top": null,
            "visibility": null,
            "width": null
          }
        },
        "634bfcc63e874240a9b3181e384d44b0": {
          "model_module": "@jupyter-widgets/controls",
          "model_name": "DescriptionStyleModel",
          "model_module_version": "1.5.0",
          "state": {
            "_model_module": "@jupyter-widgets/controls",
            "_model_module_version": "1.5.0",
            "_model_name": "DescriptionStyleModel",
            "_view_count": null,
            "_view_module": "@jupyter-widgets/base",
            "_view_module_version": "1.2.0",
            "_view_name": "StyleView",
            "description_width": ""
          }
        }
      }
    }
  },
  "cells": [
    {
      "cell_type": "markdown",
      "metadata": {
        "id": "view-in-github",
        "colab_type": "text"
      },
      "source": [
        "<a href=\"https://colab.research.google.com/github/arjan-hada/Machine-Learning-Engineer-Nanodegree/blob/master/ESM2_Ab_CLIP.ipynb\" target=\"_parent\"><img src=\"https://colab.research.google.com/assets/colab-badge.svg\" alt=\"Open In Colab\"/></a>"
      ]
    },
    {
      "cell_type": "markdown",
      "source": [
        "#ESM2AbCLIP: Antibody structure aware ESM2 model"
      ],
      "metadata": {
        "id": "JKV_0K5QjIzu"
      }
    },
    {
      "cell_type": "markdown",
      "source": [
        "## Setup"
      ],
      "metadata": {
        "id": "p9vnHkEAfBEx"
      }
    },
    {
      "cell_type": "code",
      "source": [
        "!pip install torch transformers accelerate &> /dev/null"
      ],
      "metadata": {
        "id": "LNeTW6Psdk5X"
      },
      "execution_count": 1,
      "outputs": []
    },
    {
      "cell_type": "code",
      "execution_count": 2,
      "metadata": {
        "id": "dRmIE_RscmwF"
      },
      "outputs": [],
      "source": [
        "import os\n",
        "from pathlib import Path\n",
        "import json\n",
        "\n",
        "import torch\n",
        "import torch.nn as nn\n",
        "import torch.nn.functional as F\n",
        "import numpy as np\n",
        "import pandas as pd"
      ]
    },
    {
      "cell_type": "code",
      "source": [
        "from google.colab import drive\n",
        "drive.mount('/content/gdrive', force_remount=True)\n",
        "\n",
        "path = Path(\"/content/gdrive/\")\n",
        "path_data = Path(\"/content/gdrive/MyDrive/data/proteinflow_esmif1_20240520-0899946\")"
      ],
      "metadata": {
        "colab": {
          "base_uri": "https://localhost:8080/"
        },
        "id": "7rEc9sdfnxl0",
        "outputId": "f5920085-e3b9-406a-cbcd-575a17e05c68"
      },
      "execution_count": 3,
      "outputs": [
        {
          "output_type": "stream",
          "name": "stdout",
          "text": [
            "Mounted at /content/gdrive\n"
          ]
        }
      ]
    },
    {
      "cell_type": "markdown",
      "source": [
        "## Dataset"
      ],
      "metadata": {
        "id": "QSt2dK7xfENn"
      }
    },
    {
      "cell_type": "code",
      "source": [
        "import pandas as pd\n",
        "import torch\n",
        "from torch.utils.data import Dataset\n",
        "\n",
        "class AntibodyDataset(Dataset):\n",
        "    \"\"\"\n",
        "    Initialize the dataset.\n",
        "\n",
        "    Args:\n",
        "        data_path (str): Path to the pickle file containing data.\n",
        "        tokenizer (transformers.PreTrainedTokenizer): Tokenizer to process the sequences.\n",
        "    \"\"\"\n",
        "    def __init__(self, data_path, tokenizer):\n",
        "        self.data = pd.read_pickle(data_path)\n",
        "        self.tokenizer = tokenizer\n",
        "\n",
        "    def __len__(self):\n",
        "        return len(self.data)\n",
        "\n",
        "    def __getitem__(self, idx):\n",
        "        \"\"\"\n",
        "        Get item by index.\n",
        "        \"\"\"\n",
        "        row = self.data.iloc[idx]\n",
        "        sequence = row['sequence']\n",
        "        embedding = torch.tensor(row['embedding'], dtype=torch.float32)\n",
        "\n",
        "        inputs = self.tokenizer(sequence, return_tensors='pt', padding=False,\n",
        "                                truncation=False)\n",
        "\n",
        "        return {\n",
        "            'input_ids': inputs['input_ids'].squeeze(),\n",
        "            'attention_mask': inputs['attention_mask'].squeeze(),\n",
        "            'labels': embedding\n",
        "        }"
      ],
      "metadata": {
        "id": "z5HILn0wrDbI"
      },
      "execution_count": 4,
      "outputs": []
    },
    {
      "cell_type": "markdown",
      "source": [
        "Github copilot: The conversion of row['embedding'] to a tensor is done directly within __getitem__. This is generally fine, but if the dataset is large and this operation is costly, consider pre-processing steps or caching mechanisms."
      ],
      "metadata": {
        "id": "dMXygkMChCcK"
      }
    },
    {
      "cell_type": "code",
      "source": [
        "from transformers import AutoTokenizer, DataCollatorWithPadding\n",
        "from torch.utils.data import DataLoader\n",
        "\n",
        "# Initialize tokenizer\n",
        "model_ckpt = 'facebook/esm2_t6_8M_UR50D'\n",
        "tokenizer = AutoTokenizer.from_pretrained(model_ckpt)\n",
        "\n",
        "# Initialize datasets\n",
        "train_ds = AntibodyDataset(path_data/'train_data.pkl', tokenizer)\n",
        "valid_ds = AntibodyDataset(path_data/'valid_data.pkl', tokenizer)\n",
        "test_ds = AntibodyDataset(path_data/'test_data.pkl', tokenizer)"
      ],
      "metadata": {
        "colab": {
          "base_uri": "https://localhost:8080/",
          "height": 237,
          "referenced_widgets": [
            "a8f3441fab1040d69c7859d8eaa7dd1f",
            "5f2100a310df4e0bb1b2e2deaa5f28be",
            "ad6f711a216f4fb5b6d9add3957d08b9",
            "a638ab99eacb4bc08561c150fad0e9c2",
            "b6f999973e6643c9a16598c9fafd9566",
            "578c41993a5e4300af785ce5b9ff741a",
            "ac4c6728262944cd8ecfd89e20a37b08",
            "333f7893bef1489c82010ab4eb01efc7",
            "c235e59b0a5d4312acc697ec9c5597c2",
            "b156b3b17db741ec84b19dedaee94d3a",
            "6d509207500c4ecdb18ee824c3810e98",
            "d838c76d578b4574b994c3116b2b4153",
            "47017019771d4b2f857e08d7904d187d",
            "939e337dba9f48e7948b09a9e386d5b0",
            "41c1b0b5b8744476a30a43c6533caeb0",
            "89262d09592b41a68febef57dbee616e",
            "c412feb1b26842d5ab323d77fe29f105",
            "97e80fbf86004a4c9e74af2e51f8bc28",
            "3cba078e04974a028fe2bcbb43bb9249",
            "5287571c6b6f4d778622f325465ef9b7",
            "f8fceba8dbac43afa780aaf4f957a651",
            "f5073af582fe4a6686e23da5a09cb4aa",
            "4e27d7f43ff0493e85b770716a2db5dd",
            "4c8780184bca4f8bbb56cf96be0d8733",
            "ab2dc4505d4f4129a77f7cb60d11d8b5",
            "a839b3b2a002494fa8dd138effcf154e",
            "e4904afdfe41472eae518739f59fc344",
            "8a488808b6b74ff79908f1baf04eb044",
            "91bcdb1e3ebe4e708bec338c06e784a0",
            "4e6d0ec170694c1092986a4ce57a8497",
            "8fa6f7a891bf46338a973eddb499ffdf",
            "7a58ec02d84b4a389a92096b34d13ca9",
            "189f5ad1f499405eb06e3cdfdf866e77"
          ]
        },
        "id": "-U_HhYHiufRo",
        "outputId": "77686706-051c-4f04-c841-b35c84562a1b"
      },
      "execution_count": 5,
      "outputs": [
        {
          "output_type": "stream",
          "name": "stderr",
          "text": [
            "/usr/local/lib/python3.10/dist-packages/huggingface_hub/utils/_token.py:89: UserWarning: \n",
            "The secret `HF_TOKEN` does not exist in your Colab secrets.\n",
            "To authenticate with the Hugging Face Hub, create a token in your settings tab (https://huggingface.co/settings/tokens), set it as secret in your Google Colab and restart your session.\n",
            "You will be able to reuse this secret in all of your notebooks.\n",
            "Please note that authentication is recommended but still optional to access public models or datasets.\n",
            "  warnings.warn(\n"
          ]
        },
        {
          "output_type": "display_data",
          "data": {
            "text/plain": [
              "tokenizer_config.json:   0%|          | 0.00/95.0 [00:00<?, ?B/s]"
            ],
            "application/vnd.jupyter.widget-view+json": {
              "version_major": 2,
              "version_minor": 0,
              "model_id": "a8f3441fab1040d69c7859d8eaa7dd1f"
            }
          },
          "metadata": {}
        },
        {
          "output_type": "display_data",
          "data": {
            "text/plain": [
              "vocab.txt:   0%|          | 0.00/93.0 [00:00<?, ?B/s]"
            ],
            "application/vnd.jupyter.widget-view+json": {
              "version_major": 2,
              "version_minor": 0,
              "model_id": "d838c76d578b4574b994c3116b2b4153"
            }
          },
          "metadata": {}
        },
        {
          "output_type": "display_data",
          "data": {
            "text/plain": [
              "special_tokens_map.json:   0%|          | 0.00/125 [00:00<?, ?B/s]"
            ],
            "application/vnd.jupyter.widget-view+json": {
              "version_major": 2,
              "version_minor": 0,
              "model_id": "4e27d7f43ff0493e85b770716a2db5dd"
            }
          },
          "metadata": {}
        }
      ]
    },
    {
      "cell_type": "code",
      "source": [
        "# Initialize DataCollator\n",
        "data_collator = DataCollatorWithPadding(tokenizer)\n",
        "\n",
        "# Initialize DataLoader with DataCollator\n",
        "batch_size=2\n",
        "train_dl = DataLoader(train_ds, batch_size=batch_size, shuffle=True, collate_fn=data_collator)\n",
        "valid_dl = DataLoader(valid_ds, batch_size=batch_size, shuffle=False, collate_fn=data_collator)\n",
        "test_dl = DataLoader(test_ds, batch_size=batch_size, shuffle=False, collate_fn=data_collator)"
      ],
      "metadata": {
        "id": "QXiExMh5hYpa"
      },
      "execution_count": 6,
      "outputs": []
    },
    {
      "cell_type": "code",
      "source": [
        "batch = next(iter(train_dl))\n",
        "#print(batch)\n",
        "print(batch['input_ids'].shape)\n",
        "print(batch['attention_mask'].shape)\n",
        "print(batch['labels'].shape)"
      ],
      "metadata": {
        "id": "N_0Y45PQuidt",
        "colab": {
          "base_uri": "https://localhost:8080/"
        },
        "outputId": "2704a1fd-953b-4447-83e4-4b56f9975942"
      },
      "execution_count": 9,
      "outputs": [
        {
          "output_type": "stream",
          "name": "stdout",
          "text": [
            "torch.Size([2, 1329])\n",
            "torch.Size([2, 1329])\n",
            "torch.Size([2, 512])\n"
          ]
        }
      ]
    },
    {
      "cell_type": "markdown",
      "source": [
        "## Custom Model for Contrastive Pre-training"
      ],
      "metadata": {
        "id": "aZPIm2kP49Yh"
      }
    },
    {
      "cell_type": "code",
      "source": [
        "import numpy as np\n",
        "import torch\n",
        "import torch.nn as nn\n",
        "from transformers import AutoModel, AutoTokenizer, PreTrainedModel, PretrainedConfig\n",
        "from torch.cuda.amp import autocast\n",
        "\n",
        "class ESM2AbCLIPConfig(PretrainedConfig):\n",
        "    model_type = \"esm2_ab_clip\"\n",
        "\n",
        "    def __init__(self, projection_dim=512, dropout_rate=0.0,\n",
        "                 model_ckpt='facebook/esm2_t33_650M_UR50D',\n",
        "                 **kwargs):\n",
        "        super().__init__(**kwargs)\n",
        "        self.projection_dim = projection_dim\n",
        "        self.dropout_rate = dropout_rate\n",
        "        self.model_ckpt = model_ckpt\n",
        "\n",
        "class ESM2AbCLIP(PreTrainedModel):\n",
        "    config_class = ESM2AbCLIPConfig\n",
        "\n",
        "    def __init__(self, config):\n",
        "        super().__init__(config)\n",
        "        self.sequence_model = AutoModel.from_pretrained(config.model_ckpt)\n",
        "\n",
        "        # Projection layers for sequence embeddings with GeLU\n",
        "        self.sequence_projection = nn.Sequential(\n",
        "            nn.Linear(self.sequence_model.config.hidden_size, config.projection_dim),\n",
        "            nn.GELU(),\n",
        "            nn.Dropout(config.dropout_rate)\n",
        "        )\n",
        "\n",
        "        # Projection layer for structure embeddings with GeLU\n",
        "        self.structure_projection = nn.Sequential(\n",
        "            nn.Linear(config.projection_dim, config.projection_dim),\n",
        "            nn.GELU(),\n",
        "            nn.Dropout(config.dropout_rate)\n",
        "        )\n",
        "\n",
        "        # Learnable temperature parameter\n",
        "        self.logit_scale = nn.Parameter(torch.ones([]) * np.log(1 / 0.07))\n",
        "\n",
        "        # Load and initialize weights\n",
        "        self.post_init()\n",
        "\n",
        "    def forward(self, input_ids, attention_mask, labels):\n",
        "        with autocast():  # Enable mixed-precision for the forward pass\n",
        "            # Forward pass through the sequence model\n",
        "            outputs = self.sequence_model(input_ids=input_ids, attention_mask=attention_mask)\n",
        "            cls_hidden_state = outputs.last_hidden_state[:, 0, :]  # [CLS] token pooling\n",
        "\n",
        "            # Project the sequence embeddings\n",
        "            projected_sequence = self.sequence_projection(cls_hidden_state)\n",
        "            projected_structure = self.structure_projection(labels)\n",
        "\n",
        "            # Clamp the logit scale value to ensure it does not exceed log(100)\n",
        "            self.logit_scale.data.clamp_(max=np.log(100.0))\n",
        "\n",
        "            return {\n",
        "                'logits': (projected_sequence, projected_structure)\n",
        "            }"
      ],
      "metadata": {
        "id": "_IVxy82krSQm"
      },
      "execution_count": 10,
      "outputs": []
    },
    {
      "cell_type": "code",
      "source": [
        "# Initialize model with custom configuration\n",
        "model_config = ESM2AbCLIPConfig(projection_dim=512, dropout_rate=0.0,\n",
        "                                model_ckpt=model_ckpt)\n",
        "model = ESM2AbCLIP(model_config)"
      ],
      "metadata": {
        "colab": {
          "base_uri": "https://localhost:8080/",
          "height": 136,
          "referenced_widgets": [
            "19f970262138436bb587064d4bc7119a",
            "f3343a45da1c4808a7ac18fb66188d73",
            "a1e2724bc15e43f5a86ded4b16866252",
            "15c05f0454724b2fa43eb78d1be4019c",
            "ca11a6bcb38f4de2baef5581ff39eb27",
            "8d5573f5fa65481698858f9d7d741d2a",
            "19c2ff876e4b4898b7420a9d0936a518",
            "24b4c566c18a4e0a9a91d2efcd7a0689",
            "58dbd1ecb5b449fa9e695aab9f82dd22",
            "ac412ea27cf3476eb66db070b6febc28",
            "84598fe59e2745fc96007a0fbe1704a4",
            "64d0f73b036742b79a173c1016c6df68",
            "978bfc5677c3492da802efafbbb0dc1e",
            "5c0d8ba6f0c8498486ccc5dd4e5eef5c",
            "d35552acfab44cd28bc9404550972ce2",
            "e666793ab3054bd4810e9467435d1560",
            "e2302fd4a0c54bb8ac2cf588f623aa14",
            "866806dee5e04904a17157f4ee3a9ecc",
            "d9357c486cfe46468026fca3961de058",
            "cc970084b96441e58c616d4f2e868fa1",
            "d88ba77e51e944f088474daca2abf0ad",
            "2fccac9f54274a4f9d500be17f7ca337"
          ]
        },
        "id": "16E7DE51h56d",
        "outputId": "a4fe77e6-cc47-432b-a88f-a48cade6507a"
      },
      "execution_count": 11,
      "outputs": [
        {
          "output_type": "display_data",
          "data": {
            "text/plain": [
              "config.json:   0%|          | 0.00/775 [00:00<?, ?B/s]"
            ],
            "application/vnd.jupyter.widget-view+json": {
              "version_major": 2,
              "version_minor": 0,
              "model_id": "19f970262138436bb587064d4bc7119a"
            }
          },
          "metadata": {}
        },
        {
          "output_type": "display_data",
          "data": {
            "text/plain": [
              "model.safetensors:   0%|          | 0.00/31.4M [00:00<?, ?B/s]"
            ],
            "application/vnd.jupyter.widget-view+json": {
              "version_major": 2,
              "version_minor": 0,
              "model_id": "64d0f73b036742b79a173c1016c6df68"
            }
          },
          "metadata": {}
        },
        {
          "output_type": "stream",
          "name": "stderr",
          "text": [
            "Some weights of EsmModel were not initialized from the model checkpoint at facebook/esm2_t6_8M_UR50D and are newly initialized: ['esm.pooler.dense.bias', 'esm.pooler.dense.weight']\n",
            "You should probably TRAIN this model on a down-stream task to be able to use it for predictions and inference.\n"
          ]
        }
      ]
    },
    {
      "cell_type": "code",
      "source": [
        "outputs = model.forward(**batch)\n",
        "logits = outputs['logits']\n",
        "print(logits[0].shape)\n",
        "print(logits[1].shape)"
      ],
      "metadata": {
        "colab": {
          "base_uri": "https://localhost:8080/"
        },
        "id": "cIum7Cv4h_Um",
        "outputId": "bff8f8d2-3220-495a-e9d2-4b81886f1b12"
      },
      "execution_count": 12,
      "outputs": [
        {
          "output_type": "stream",
          "name": "stdout",
          "text": [
            "torch.Size([2, 512])\n",
            "torch.Size([2, 512])\n"
          ]
        }
      ]
    },
    {
      "cell_type": "markdown",
      "source": [
        "## Contrastive Loss"
      ],
      "metadata": {
        "id": "C-VDB6wGK7b0"
      }
    },
    {
      "cell_type": "markdown",
      "source": [
        "Scaled pairwise cosine similarities are a crucial component in many contrastive learning frameworks, including CLIP (Contrastive Language-Image Pre-training).\n",
        "\n",
        "**Cosine similarity** measures the cosine of the angle between two vectors in an inner product space. It is a measure of similarity between two non-zero vectors, giving a value between -1 and 1.\n",
        "\n",
        "For two vectors \\( A \\) and \\( B \\):\n",
        "$$ \\text{cosine_similarity}(A, B) = \\frac{A \\cdot B}{\\|A\\| \\|B\\|} $$\n",
        "\n",
        "In PyTorch, cosine similarity between two sets of embeddings can be computed using:\n",
        "```python\n",
        "import torch.nn.functional as F\n",
        "\n",
        "cos_sim = F.cosine_similarity(embedding1, embedding2, dim=-1)\n",
        "```\n",
        "\n",
        "**Pairwise cosine similarity** computes the cosine similarity between each pair of vectors from two sets of vectors. This is useful in comparing all possible pairs in a batch.\n",
        "\n",
        "For sequence embeddings $ \\text{seq_embeddings} $ and structure embeddings $ \\text{struct_embeddings}$:\n",
        "\n",
        "```python\n",
        "cos_sim_matrix = torch.mm(seq_embeddings, struct_embeddings.t())\n",
        "```\n",
        "\n",
        "This gives a matrix of cosine similarities between each sequence and each structure embedding."
      ],
      "metadata": {
        "id": "SJO6kdThhfQ6"
      }
    },
    {
      "cell_type": "code",
      "source": [
        "import torch\n",
        "import torch.nn as nn\n",
        "import torch.nn.functional as F\n",
        "\n",
        "class ContrastiveLoss(nn.Module):\n",
        "    def __init__(self):\n",
        "        super(ContrastiveLoss, self).__init__()\n",
        "\n",
        "    def forward(self, seq_embeddings, struct_embeddings, logit_scale):\n",
        "        # Normalize embeddings to unit vectors\n",
        "        seq_embeddings = F.normalize(seq_embeddings, dim=1)\n",
        "        struct_embeddings = F.normalize(struct_embeddings, dim=1)\n",
        "\n",
        "        # Compute pairwise cosine similarities and scale with temperature\n",
        "        temperature = torch.exp(logit_scale)\n",
        "        logits_per_seq = torch.mm(seq_embeddings, struct_embeddings.t()) * temperature\n",
        "        logits_per_struct = logits_per_seq.t()\n",
        "\n",
        "        # Labels for contrastive loss\n",
        "        labels = torch.arange(seq_embeddings.size(0)).to(seq_embeddings.device)\n",
        "\n",
        "        # Contrastive loss as described in the paper\n",
        "        loss_seq = F.cross_entropy(logits_per_seq, labels)\n",
        "        loss_struct = F.cross_entropy(logits_per_struct, labels)\n",
        "        loss = (loss_seq + loss_struct) / 2\n",
        "\n",
        "        return loss"
      ],
      "metadata": {
        "id": "cwXnSpxsLDZo"
      },
      "execution_count": 13,
      "outputs": []
    },
    {
      "cell_type": "markdown",
      "source": [
        "The `ContrastiveLoss` class is designed to implement a contrastive learning objective for sequence and structure embeddings, similar to how CLIP (Contrastive Language-Image Pre-training) works. The goal is to bring corresponding sequence and structure embeddings closer in the embedding space while pushing non-corresponding pairs further apart.\n",
        "\n",
        "#### Key Components\n",
        "\n",
        "1. **Normalization**: Both sequence and structure embeddings are normalized to unit vectors. This ensures that the cosine similarity is computed correctly.\n",
        "   \n",
        "2. **Cosine Similarity**: The similarity between the embeddings is computed using the dot product. The temperature parameter τ is used to scale the logits (cosine similarities) before applying the softmax function in contrastive learning. It controls the sharpness of the distribution:\n",
        "    - High temperature (large τ) results in a smoother probability distribution.\n",
        "    - Low temperature (small τ) results in a sharper distribution.\n",
        "\n",
        "    Making τ a learnable parameter allows the model to adapt the scaling dynamically based on the data and the training process.\n",
        "\n",
        "   \n",
        "3. **Contrastive Loss**:\n",
        "   - **Sequence-to-Structure**: Each sequence embedding is compared against all structure embeddings. The goal is to maximize the similarity with its corresponding structure embedding and minimize the similarity with others.\n",
        "   - **Structure-to-Sequence**: Similarly, each structure embedding is compared against all sequence embeddings.\n",
        "\n",
        "4. **Cross-Entropy Loss**: The loss is computed using cross-entropy, treating the problem as a classification task where the correct pair should have the highest similarity score."
      ],
      "metadata": {
        "id": "fkl5NqNiLHO4"
      }
    },
    {
      "cell_type": "markdown",
      "source": [
        "The computation of temperature = torch.exp(logit_scale) could potentially lead to numerical instability if logit_scale is large. There is a clamp (torch.clamp(logit_scale, max=...)) in model def to ensure stability."
      ],
      "metadata": {
        "id": "L9Dri0wLiLmk"
      }
    },
    {
      "cell_type": "code",
      "source": [
        "loss_fct = ContrastiveLoss()  # Instantiate the loss function\n",
        "loss = loss_fct(logits[0], logits[1], model.logit_scale)  # Compute the loss\n",
        "print(loss)"
      ],
      "metadata": {
        "colab": {
          "base_uri": "https://localhost:8080/"
        },
        "id": "IiN5B4J1ialV",
        "outputId": "dc7b9eda-9e81-4cba-b108-a6b9e0fff5ab"
      },
      "execution_count": 14,
      "outputs": [
        {
          "output_type": "stream",
          "name": "stdout",
          "text": [
            "tensor(0.6942, grad_fn=<DivBackward0>)\n"
          ]
        }
      ]
    },
    {
      "cell_type": "markdown",
      "source": [
        "## Performance measures"
      ],
      "metadata": {
        "id": "oMrWY06_1_z5"
      }
    },
    {
      "cell_type": "markdown",
      "source": [
        "We will implement the Alignment and Uniformity metrics as proposed by [Wang & Isola (2020)](https://arxiv.org/abs/2005.10242), in addition to Contrastive Accuracy and Top-K Accuracy.\n",
        "\n",
        "1. **Alignment** measures how close positive pairs are in the embedding space.\n",
        "\n",
        "  $$\n",
        "  \\text{Alignment} = \\mathbb{E}_{(x, y) \\sim p_{\\text{pos}}} \\left[ \\| f(x) - f(y) \\|^2 \\right]\n",
        "  $$\n",
        "  This is calculated as the average squared Euclidean distance between embeddings of positive pairs. A good alignment score is close to 0, indicating that positive pairs are nearly identical in the embedding space.\n",
        "\n",
        "\n",
        "2. **Uniformity** measures how uniformly the embeddings are spread on the unit hypersphere.\n",
        "  $$\n",
        "  \\text{Uniformity} = \\log \\mathbb{E}_{(x, y) \\sim p_{\\text{data}}} \\left[ e^{-2 \\| f(x) - f(y) \\|^2} \\right]\n",
        "  $$\n",
        "  This is calculated as the logarithm of the expected exponential of the negative squared Euclidean distance between all pairs of embeddings. High Uniformity indicates that embeddings are well spread out uniformly across the embedding space, which is desirable.\n",
        "\n",
        "3. **Cosine Similarity** measures the cosine of the angle between two non-zero vectors.\n",
        "\n",
        "4. **Contrastive Accuracy** measures how often the model correctly identifies the matching pair among a set of negatives.\n",
        "\n",
        "5. **Top-K Accuracy** measures whether the true positive is within the top K closest predictions.\n"
      ],
      "metadata": {
        "id": "ScRlWnZeZcjc"
      }
    },
    {
      "cell_type": "code",
      "source": [
        "import torch\n",
        "import torch.nn.functional as F\n",
        "\n",
        "# Function to compute the Alignment metric\n",
        "def compute_alignment(seq_embeddings, struct_embeddings):\n",
        "    distances = (seq_embeddings - struct_embeddings).pow(2).sum(dim=1)\n",
        "    alignment = distances.mean().item()\n",
        "    return alignment\n",
        "\n",
        "# Function to compute the Uniformity metric\n",
        "# This function is computationally intensive and may take a while to run\n",
        "def compute_uniformity(embeddings):\n",
        "    pairwise_distances = torch.cdist(embeddings, embeddings, p=2).pow(2)\n",
        "    uniformity = torch.log(torch.exp(-2 * pairwise_distances).mean()).item()\n",
        "    return uniformity\n",
        "\n",
        "# Function to compute the Cosine Similarity metric\n",
        "def compute_cosine_similarity(seq_embeddings, struct_embeddings):\n",
        "    \"\"\"\n",
        "    This function normalizes the sequence and structure embeddings to unit\n",
        "    vectors and then computes the cosine similarity between each pair using\n",
        "    matrix multiplication.\n",
        "    \"\"\"\n",
        "    cosine_sim = torch.mm(seq_embeddings, struct_embeddings.t())\n",
        "    return cosine_sim\n",
        "\n",
        "# Function to compute the Contrastive Accuracy\n",
        "def compute_contrastive_accuracy(cosine_sim):\n",
        "    \"\"\"\n",
        "    This function finds the index of the maximum cosine similarity for each\n",
        "    sequence embedding and compares it to the correct index.\n",
        "    It then computes the mean accuracy.\n",
        "    \"\"\"\n",
        "    correct_preds = cosine_sim.argmax(dim=1)\n",
        "    correct = correct_preds == torch.arange(cosine_sim.size(0)).to(cosine_sim)\n",
        "    return correct.float().mean().item()\n",
        "\n",
        "# Function to compute the Top-K Accuracy\n",
        "def compute_top_k_accuracy(cosine_sim, k=1):\n",
        "    \"\"\"\n",
        "    This function finds the top K predictions for each sequence embedding and\n",
        "    checks if the correct match is within these top K predictions.\n",
        "    It then computes the mean accuracy.\n",
        "    \"\"\"\n",
        "    top_k_preds = cosine_sim.topk(k, dim=1)[1]\n",
        "    correct = torch.arange(cosine_sim.size(0)).unsqueeze(1).expand_as(top_k_preds)\n",
        "    correct = correct == top_k_preds\n",
        "    return correct.any(dim=1).float().mean().item()"
      ],
      "metadata": {
        "id": "9C7pAxJ42FUh"
      },
      "execution_count": 15,
      "outputs": []
    },
    {
      "cell_type": "code",
      "source": [
        "def compute_metrics(eval_pred):\n",
        "    seq_embeddings, struct_embeddings = eval_pred.predictions\n",
        "    seq_embeddings = torch.tensor(seq_embeddings)\n",
        "    struct_embeddings = torch.tensor(struct_embeddings)\n",
        "\n",
        "    # Normalize embeddings\n",
        "    seq_embeddings = F.normalize(seq_embeddings, dim=1)\n",
        "    struct_embeddings = F.normalize(struct_embeddings, dim=1)\n",
        "\n",
        "    # Compute metrics\n",
        "    alignment = compute_alignment(seq_embeddings, struct_embeddings)\n",
        "    combined_embeddings = torch.cat((seq_embeddings, struct_embeddings), dim=0)\n",
        "    uniformity = compute_uniformity(combined_embeddings)\n",
        "    cosine_sim = compute_cosine_similarity(seq_embeddings, struct_embeddings)\n",
        "    contrastive_accuracy = compute_contrastive_accuracy(cosine_sim)\n",
        "    top_3_accuracy = compute_top_k_accuracy(cosine_sim, k=3)\n",
        "\n",
        "    metrics = {\n",
        "        \"alignment\": alignment,\n",
        "        \"uniformity\": uniformity,\n",
        "        \"contrastive_accuracy\": contrastive_accuracy,\n",
        "        \"top_3_accuracy\": top_3_accuracy\n",
        "    }\n",
        "    return metrics"
      ],
      "metadata": {
        "id": "n2HO0TZ72UMh"
      },
      "execution_count": 16,
      "outputs": []
    },
    {
      "cell_type": "code",
      "source": [
        "# Calculate metrics\n",
        "seq_embeddings, struct_embeddings = logits[0], logits[1]\n",
        "seq_embeddings = F.normalize(seq_embeddings, dim=1)\n",
        "struct_embeddings = F.normalize(struct_embeddings, dim=1)\n",
        "\n",
        "alignment = compute_alignment(seq_embeddings, struct_embeddings)\n",
        "combined_embeddings = torch.cat((seq_embeddings, struct_embeddings), dim=0)\n",
        "uniformity = compute_uniformity(combined_embeddings)\n",
        "cosine_sim = compute_cosine_similarity(seq_embeddings, struct_embeddings)\n",
        "contrastive_accuracy = compute_contrastive_accuracy(cosine_sim)\n",
        "top_1_accuracy = compute_top_k_accuracy(cosine_sim, k=1)\n",
        "\n",
        "# Print the results\n",
        "print(\"Contrastive Loss:\", loss.item())\n",
        "print(\"Alignment:\", alignment)\n",
        "print(\"Uniformity:\", uniformity)\n",
        "print(\"Contrastive Accuracy:\", contrastive_accuracy)\n",
        "print(\"Top-1 Accuracy:\", top_1_accuracy)"
      ],
      "metadata": {
        "colab": {
          "base_uri": "https://localhost:8080/"
        },
        "id": "qaKpWt5Wiqcu",
        "outputId": "79fe51ae-0cfa-4ed1-c4e7-3e60d787219c"
      },
      "execution_count": 17,
      "outputs": [
        {
          "output_type": "stream",
          "name": "stdout",
          "text": [
            "Contrastive Loss: 0.694245457649231\n",
            "Alignment: 2.0185546875\n",
            "Uniformity: -0.761776864528656\n",
            "Contrastive Accuracy: 0.5\n",
            "Top-1 Accuracy: 0.5\n"
          ]
        }
      ]
    },
    {
      "cell_type": "markdown",
      "source": [
        "## Custom Trainer for Contrastive Learning"
      ],
      "metadata": {
        "id": "2jZrIQOdLQJz"
      }
    },
    {
      "cell_type": "code",
      "source": [
        "from transformers import Trainer\n",
        "\n",
        "class ContrastiveTrainer(Trainer):\n",
        "    def compute_loss(self, model, inputs, return_outputs=False):\n",
        "        outputs = model(**inputs)  # Forward pass to get logits\n",
        "        logits = outputs['logits']\n",
        "\n",
        "        # Access logit_scale from the underlying model\n",
        "        logit_scale = model.module.logit_scale if hasattr(model, 'module') else model.logit_scale\n",
        "\n",
        "        loss_fct = ContrastiveLoss()  # Instantiate the loss function\n",
        "        loss = loss_fct(logits[0], logits[1], model.logit_scale)  # Compute the loss\n",
        "\n",
        "        return (loss, outputs) if return_outputs else loss"
      ],
      "metadata": {
        "id": "Y_1syrTL-HRa"
      },
      "execution_count": 18,
      "outputs": []
    },
    {
      "cell_type": "code",
      "source": [
        "import gc # Python's garbage collection module\n",
        "\n",
        "def clear_memory():\n",
        "    gc.collect() # explicitly triggers garbage collection, free up memory\n",
        "    if torch.cuda.is_available(): torch.cuda.empty_cache() # clears the PyTorch CUDA memory cache"
      ],
      "metadata": {
        "id": "sGSBJE0dgpV6"
      },
      "execution_count": 19,
      "outputs": []
    },
    {
      "cell_type": "markdown",
      "source": [
        "## Training"
      ],
      "metadata": {
        "id": "_VKFpaebvaea"
      }
    },
    {
      "cell_type": "code",
      "source": [
        "# Original CLIP parameters from **Learning Transferable Visual Models From Natural Language Supervision**\n",
        "original_dataset_size = 400 * 10**6  # 400 million pairs\n",
        "original_batch_size = 32768\n",
        "original_epochs = 32\n",
        "original_warmup_steps = 2000\n",
        "\n",
        "# Calculate total training steps for the original setup\n",
        "original_total_training_steps = (original_dataset_size * original_epochs) / original_batch_size\n",
        "\n",
        "# Calculate the warmup ratio\n",
        "original_warmup_ratio = original_warmup_steps / original_total_training_steps\n",
        "\n",
        "print(f\"Original total training steps: {original_total_training_steps}\")\n",
        "print(f\"Original warmup ratio: {original_warmup_ratio}\")\n",
        "\n",
        "# Your training setup parameters\n",
        "our_dataset_size = 1571  # Your dataset size\n",
        "our_batch_size = 8\n",
        "our_epochs = 5\n",
        "\n",
        "# Calculate total training steps for your setup\n",
        "our_total_training_steps = (our_dataset_size * our_epochs) / our_batch_size\n",
        "\n",
        "# Calculate your warmup steps using the original warmup ratio\n",
        "our_warmup_steps = int(original_warmup_ratio * our_total_training_steps)\n",
        "our_warmup_steps = max(1, our_warmup_steps)  # Ensure at least 1 warmup step\n",
        "\n",
        "print(f\"Our total training steps: {our_total_training_steps}\")\n",
        "print(f\"Our warmup steps: {our_warmup_steps}\")"
      ],
      "metadata": {
        "colab": {
          "base_uri": "https://localhost:8080/"
        },
        "id": "guh0OeGCyW1c",
        "outputId": "353d36fe-12f0-4fc4-c792-a78cf3d71a0c"
      },
      "execution_count": 20,
      "outputs": [
        {
          "output_type": "stream",
          "name": "stdout",
          "text": [
            "Original total training steps: 390625.0\n",
            "Original warmup ratio: 0.00512\n",
            "Our total training steps: 981.875\n",
            "Our warmup steps: 5\n"
          ]
        }
      ]
    },
    {
      "cell_type": "code",
      "source": [
        "from transformers import TrainingArguments\n",
        "\n",
        "num_epochs = 5\n",
        "batch_size = 8\n",
        "logging_steps = len(train_ds) // batch_size\n",
        "model_name = f\"{model_ckpt}-Ab-CLIP-v0\"\n",
        "\n",
        "# Training arguments\n",
        "training_args = TrainingArguments(\n",
        "    output_dir=model_name,\n",
        "    num_train_epochs=num_epochs,\n",
        "    per_device_train_batch_size=batch_size,\n",
        "    per_device_eval_batch_size=batch_size,\n",
        "    learning_rate=1e-4,\n",
        "    weight_decay=0.25,\n",
        "    adam_beta1=0.9,\n",
        "    adam_beta2=0.98,\n",
        "    adam_epsilon=1e-6,\n",
        "    fp16=True, # Mixed-precision training\n",
        "    lr_scheduler_type=\"cosine\",\n",
        "    warmup_steps=5, # for stability during the initial phase of training\n",
        "    load_best_model_at_end=True,\n",
        "    disable_tqdm=False,\n",
        "    logging_steps=logging_steps,\n",
        "    evaluation_strategy=\"epoch\",  # Evaluate at the end of each epoch\n",
        "    save_strategy=\"epoch\",  # Save the model at the end of each epoch\n",
        "    push_to_hub=True,\n",
        ")"
      ],
      "metadata": {
        "colab": {
          "base_uri": "https://localhost:8080/"
        },
        "id": "P3d_jF8o-5mR",
        "outputId": "a961bd4f-322b-4374-b62e-9fa7de93f25c"
      },
      "execution_count": 21,
      "outputs": [
        {
          "output_type": "stream",
          "name": "stderr",
          "text": [
            "/usr/local/lib/python3.10/dist-packages/transformers/training_args.py:1474: FutureWarning: `evaluation_strategy` is deprecated and will be removed in version 4.46 of 🤗 Transformers. Use `eval_strategy` instead\n",
            "  warnings.warn(\n"
          ]
        }
      ]
    },
    {
      "cell_type": "code",
      "source": [
        "# To share your model with the community\n",
        "# First store your authentication token from the Hugging Face website and then execute this cell\n",
        "# Make sure to get token with WRITE access\n",
        "from huggingface_hub import notebook_login\n",
        "\n",
        "notebook_login()"
      ],
      "metadata": {
        "colab": {
          "base_uri": "https://localhost:8080/",
          "height": 145,
          "referenced_widgets": [
            "03980e21fe6e49abb36e52378118ff3d",
            "755af7bde09d425ba30c2eb4a026ac2f",
            "1501849afe074b52a25e5cd88ec7c41c",
            "50eb58802fc0476690236fff27352c47",
            "4276a95cecc54166a9115fd10e58707f",
            "3ed9051827c44f18ba16b5dec4f0506e",
            "8b82929db2d948b1b72907f126d29b77",
            "ad810df10c6a4e08942899dd11ecf78c",
            "ff6e2f1a2c8c4887925be35120038fbd",
            "34c0ed16b70144ec901d22f310a0984f",
            "113379a7563c4ac8bab5b5235ed2ff5f",
            "79c971936b7749acbbca93211cdfe94a",
            "27e4f6fa8bd046f2a41c2943084e487f",
            "98aafd60145c4924be35f8c3f5daac8c",
            "6745223592624326a055d140083014ab",
            "40cbedf518124a58a51703cfe4c0fa51",
            "58310925b6194820a620bc73c23061b0",
            "44f10c4b61d2441f84e97b4976b1a892",
            "dd3d0a4191534798a3061b5248049a30",
            "800b18e956c94330bc98a15801c69b72",
            "e49511bfc8844f7ba7a61d0ac60b0d91",
            "40304a9f05fa4f328cc381b73813bee1",
            "4bb421df6f1d47fea55a6c0d9d2a1fc0",
            "4ba6d955ffbb4d0aa5cf55473d9fd18d",
            "c70a0498e4b3421aaea6d003b560d5ac",
            "765c10fde58a45c58cd6526703e04c41",
            "34a26800e3964cc1bd366232a1385f6b",
            "3068e8958db54a90bb99bee92427ce61",
            "237933f37ba34df4b783d545437b6969",
            "6d6da47f374a4d4d83284fc98b57af46",
            "f1cf683ab24c4156814326b976d2f166",
            "634bfcc63e874240a9b3181e384d44b0"
          ]
        },
        "id": "dBREIUIbUOex",
        "outputId": "18624981-7e9c-4e0f-9f54-662aeaaa1e14"
      },
      "execution_count": 22,
      "outputs": [
        {
          "output_type": "display_data",
          "data": {
            "text/plain": [
              "VBox(children=(HTML(value='<center> <img\\nsrc=https://huggingface.co/front/assets/huggingface_logo-noborder.sv…"
            ],
            "application/vnd.jupyter.widget-view+json": {
              "version_major": 2,
              "version_minor": 0,
              "model_id": "03980e21fe6e49abb36e52378118ff3d"
            }
          },
          "metadata": {}
        }
      ]
    },
    {
      "cell_type": "code",
      "source": [
        "# Initialize DataCollator\n",
        "data_collator = DataCollatorWithPadding(tokenizer)\n",
        "\n",
        "trainer = ContrastiveTrainer(\n",
        "    model=model,\n",
        "    args=training_args,\n",
        "    train_dataset=train_ds,\n",
        "    eval_dataset=valid_ds,\n",
        "    tokenizer=tokenizer,\n",
        "    data_collator=data_collator,\n",
        "    compute_metrics=compute_metrics\n",
        ")"
      ],
      "metadata": {
        "id": "jkAtLqumUPph"
      },
      "execution_count": 23,
      "outputs": []
    },
    {
      "cell_type": "code",
      "source": [
        "# Optionally set the max_split_size_mb to avoid fragmentation issues\n",
        "#os.environ['PYTORCH_CUDA_ALLOC_CONF'] = 'max_split_size_mb:128'"
      ],
      "metadata": {
        "id": "BKm5LG4WnhaK"
      },
      "execution_count": 25,
      "outputs": []
    },
    {
      "cell_type": "code",
      "source": [
        "clear_memory()\n",
        "# Train the model\n",
        "#print(torch.cuda.memory_summary())\n",
        "trainer.train()\n",
        "trainer.push_to_hub(commit_message=\"Training completed!\")"
      ],
      "metadata": {
        "colab": {
          "base_uri": "https://localhost:8080/",
          "height": 284
        },
        "id": "rQCyQOlTuKFw",
        "outputId": "a002fd84-fabb-4571-a233-a263dde54fd4"
      },
      "execution_count": 24,
      "outputs": [
        {
          "output_type": "display_data",
          "data": {
            "text/plain": [
              "<IPython.core.display.HTML object>"
            ],
            "text/html": [
              "\n",
              "    <div>\n",
              "      \n",
              "      <progress value='980' max='980' style='width:300px; height:20px; vertical-align: middle;'></progress>\n",
              "      [980/980 08:19, Epoch 5/5]\n",
              "    </div>\n",
              "    <table border=\"1\" class=\"dataframe\">\n",
              "  <thead>\n",
              " <tr style=\"text-align: left;\">\n",
              "      <th>Epoch</th>\n",
              "      <th>Training Loss</th>\n",
              "      <th>Validation Loss</th>\n",
              "      <th>Alignment</th>\n",
              "      <th>Uniformity</th>\n",
              "      <th>Contrastive Accuracy</th>\n",
              "      <th>Top 3 Accuracy</th>\n",
              "    </tr>\n",
              "  </thead>\n",
              "  <tbody>\n",
              "    <tr>\n",
              "      <td>1</td>\n",
              "      <td>1.055400</td>\n",
              "      <td>1.240492</td>\n",
              "      <td>1.205698</td>\n",
              "      <td>-2.429118</td>\n",
              "      <td>0.061224</td>\n",
              "      <td>0.217687</td>\n",
              "    </tr>\n",
              "    <tr>\n",
              "      <td>2</td>\n",
              "      <td>0.458400</td>\n",
              "      <td>1.134311</td>\n",
              "      <td>1.219045</td>\n",
              "      <td>-2.769847</td>\n",
              "      <td>0.122449</td>\n",
              "      <td>0.265306</td>\n",
              "    </tr>\n",
              "    <tr>\n",
              "      <td>3</td>\n",
              "      <td>0.274700</td>\n",
              "      <td>1.116081</td>\n",
              "      <td>1.186586</td>\n",
              "      <td>-2.990377</td>\n",
              "      <td>0.115646</td>\n",
              "      <td>0.319728</td>\n",
              "    </tr>\n",
              "    <tr>\n",
              "      <td>4</td>\n",
              "      <td>0.194800</td>\n",
              "      <td>1.105798</td>\n",
              "      <td>1.171933</td>\n",
              "      <td>-3.078087</td>\n",
              "      <td>0.149660</td>\n",
              "      <td>0.387755</td>\n",
              "    </tr>\n",
              "    <tr>\n",
              "      <td>5</td>\n",
              "      <td>0.156400</td>\n",
              "      <td>1.101502</td>\n",
              "      <td>1.169975</td>\n",
              "      <td>-3.099629</td>\n",
              "      <td>0.136054</td>\n",
              "      <td>0.353741</td>\n",
              "    </tr>\n",
              "  </tbody>\n",
              "</table><p>"
            ]
          },
          "metadata": {}
        },
        {
          "output_type": "execute_result",
          "data": {
            "text/plain": [
              "CommitInfo(commit_url='https://huggingface.co/arjan-hada/esm2_t6_8M_UR50D-Ab-CLIP-v0/commit/4eb5cf2f6fd7c94fa4dc99011d2c10a20332a4c7', commit_message='Training completed!', commit_description='', oid='4eb5cf2f6fd7c94fa4dc99011d2c10a20332a4c7', pr_url=None, pr_revision=None, pr_num=None)"
            ],
            "application/vnd.google.colaboratory.intrinsic+json": {
              "type": "string"
            }
          },
          "metadata": {},
          "execution_count": 24
        }
      ]
    },
    {
      "cell_type": "code",
      "source": [
        "# Saves the best model\n",
        "trainer.save_model(\"models/esm2_t6_8M_UR50D-Ab-CLIP-v0\")"
      ],
      "metadata": {
        "id": "pgGnVRjLM99X"
      },
      "execution_count": 26,
      "outputs": []
    },
    {
      "cell_type": "code",
      "source": [
        "# Evaluate the model on the test set\n",
        "test_result = trainer.evaluate(eval_dataset=test_ds)"
      ],
      "metadata": {
        "colab": {
          "base_uri": "https://localhost:8080/",
          "height": 37
        },
        "id": "YFc4m6xMOyLp",
        "outputId": "ef33c415-fc3f-4ec3-f214-7bdd5be443da"
      },
      "execution_count": 27,
      "outputs": [
        {
          "output_type": "display_data",
          "data": {
            "text/plain": [
              "<IPython.core.display.HTML object>"
            ],
            "text/html": [
              "\n",
              "    <div>\n",
              "      \n",
              "      <progress value='19' max='19' style='width:300px; height:20px; vertical-align: middle;'></progress>\n",
              "      [19/19 00:01]\n",
              "    </div>\n",
              "    "
            ]
          },
          "metadata": {}
        }
      ]
    },
    {
      "cell_type": "code",
      "source": [
        "# Print the results\n",
        "print(f\"Test Loss: {test_result['eval_loss']}\")\n",
        "for key, value in test_result.items():\n",
        "    if key != 'eval_loss':\n",
        "        print(f\"{key}: {value}\")"
      ],
      "metadata": {
        "colab": {
          "base_uri": "https://localhost:8080/"
        },
        "id": "SB_IicqAO68l",
        "outputId": "7c0bfc59-d3fd-4146-9132-5668fd93f2fe"
      },
      "execution_count": 28,
      "outputs": [
        {
          "output_type": "stream",
          "name": "stdout",
          "text": [
            "Test Loss: 0.9306154251098633\n",
            "eval_alignment: 1.1047149896621704\n",
            "eval_uniformity: -3.0866498947143555\n",
            "eval_contrastive_accuracy: 0.1666666716337204\n",
            "eval_top_3_accuracy: 0.41999998688697815\n",
            "eval_runtime: 1.4177\n",
            "eval_samples_per_second: 105.807\n",
            "eval_steps_per_second: 13.402\n",
            "epoch: 5.0\n"
          ]
        }
      ]
    },
    {
      "cell_type": "code",
      "source": [
        "model_config"
      ],
      "metadata": {
        "colab": {
          "base_uri": "https://localhost:8080/"
        },
        "id": "zzKXky9UtjFh",
        "outputId": "b2672060-87a9-43ba-8902-a2be017723f9"
      },
      "execution_count": 29,
      "outputs": [
        {
          "output_type": "execute_result",
          "data": {
            "text/plain": [
              "ESM2AbCLIPConfig {\n",
              "  \"architectures\": [\n",
              "    \"ESM2AbCLIP\"\n",
              "  ],\n",
              "  \"dropout_rate\": 0.0,\n",
              "  \"model_ckpt\": \"facebook/esm2_t6_8M_UR50D\",\n",
              "  \"model_type\": \"esm2_ab_clip\",\n",
              "  \"projection_dim\": 512,\n",
              "  \"torch_dtype\": \"float32\",\n",
              "  \"transformers_version\": \"4.41.2\"\n",
              "}"
            ]
          },
          "metadata": {},
          "execution_count": 29
        }
      ]
    },
    {
      "cell_type": "markdown",
      "source": [
        "### Performance Analysis"
      ],
      "metadata": {
        "id": "r9jcitV9QMhj"
      }
    },
    {
      "cell_type": "markdown",
      "source": [
        "The provided training and evaluation results show the progression of our model's performance across epochs. Here’s a detailed analysis and some insights:\n",
        "\n",
        "\n",
        "\n",
        "**Training Loss and Validation Loss**\n",
        "- **Training Loss**: Decreases steadily across epochs, indicating that the model is learning from the training data.\n",
        "- **Validation Loss**: Decreases initially but stabilizes after epoch 3, suggesting potential overfitting.\n",
        "\n",
        "**Metrics**\n",
        "- **Alignment**: Decreases slightly, which could indicate better matching between the sequence and structure embeddings.\n",
        "- **Uniformity**: Becomes more negative, indicating improved uniformity in the embedding space. This means that embeddings are spread out more evenly, which is generally good for contrastive learning.\n",
        "- **Contrastive Accuracy**: Remains relatively low, suggesting the model struggles to distinguish between positive and negative pairs effectively.\n",
        "- **Top 3 Accuracy**: Shows gradual improvement but remains low.\n",
        "\n"
      ],
      "metadata": {
        "id": "sB5aFx3xP7K0"
      }
    }
  ]
}